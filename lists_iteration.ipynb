{
 "cells": [
  {
   "cell_type": "markdown",
   "metadata": {},
   "source": [
    "# List\n",
    "* iteration operation with loop\n",
    "* apply any operation on element"
   ]
  },
  {
   "cell_type": "code",
   "execution_count": 1,
   "metadata": {},
   "outputs": [
    {
     "name": "stdout",
     "output_type": "stream",
     "text": [
      "['Taha khan', 'Tahaaa', 'Tahhhhhaaa']\n"
     ]
    }
   ],
   "source": [
    "names : list[str] = [\"Taha khan\", \"Tahaaa\", \"Tahhhhhaaa\"]\n",
    "\n",
    "print(names)"
   ]
  },
  {
   "cell_type": "code",
   "execution_count": 4,
   "metadata": {},
   "outputs": [
    {
     "name": "stdout",
     "output_type": "stream",
     "text": [
      "Taha khan\n",
      "Tahaaa\n",
      "Tahhhhhaaa\n"
     ]
    }
   ],
   "source": [
    "names : list[str] = [\"Taha khan\", \"Tahaaa\", \"Tahhhhhaaa\"]\n",
    "\n",
    "for name in names:\n",
    "    print(name)"
   ]
  },
  {
   "cell_type": "code",
   "execution_count": 1,
   "metadata": {},
   "outputs": [
    {
     "name": "stdout",
     "output_type": "stream",
     "text": [
      "Taha khan\n",
      "Tahaaa\n",
      "Tahhhhhaaa\n"
     ]
    }
   ],
   "source": [
    "# old method\n",
    "\n",
    "names : list[str] = [\"Taha khan\", \"Tahaaa\", \"Tahhhhhaaa\"]\n",
    "\n",
    "i:int = 0;\n",
    "\n",
    "while i<len(names):\n",
    "    print(names[i])\n",
    "    i += 1"
   ]
  },
  {
   "cell_type": "code",
   "execution_count": 1,
   "metadata": {},
   "outputs": [
    {
     "name": "stdout",
     "output_type": "stream",
     "text": [
      "Welcome Dear teacher Taha Khan\n",
      "PIAIC Gen AI team\n",
      "\n",
      "Welcome Dear teacher Tahaaa\n",
      "PIAIC Gen AI team\n",
      "\n",
      "Welcome Dear teacher Tahhhhhaaa\n",
      "PIAIC Gen AI team\n",
      "\n",
      "Welcome Dear teacher Taha Khan\n",
      "PIAIC Gen AI team\n",
      "\n"
     ]
    }
   ],
   "source": [
    "names : list[str] = [\"Taha khan\", \"Tahaaa\", \"Tahhhhhaaa\"]\n",
    "\n",
    "for name in names:\n",
    "    print(f'Welcome Dear teacher {name.title()}')\n",
    "    print('PIAIC Gen AI team\\n')\n",
    "\n",
    "\n",
    "for name in names[0:1]:\n",
    "    print(f'Welcome Dear teacher {name.title()}')\n",
    "    print('PIAIC Gen AI team\\n')"
   ]
  },
  {
   "cell_type": "code",
   "execution_count": 4,
   "metadata": {},
   "outputs": [
    {
     "name": "stdout",
     "output_type": "stream",
     "text": [
      "Not Found\n"
     ]
    }
   ],
   "source": [
    "data_base : list[tuple[str, str]] = [(\"Taha\", \"134\"), (\"Tahaaa\", \"144\"), (\"Tahhhhhaaa\", \"158\")];\n",
    "\n",
    "input_user : str = input(\"Enter user name...\")\n",
    "input_pass : str = input(\"Enter Passwrd...\")\n",
    "\n",
    "for row in data_base:\n",
    "    user, password = row\n",
    "    if user == input_user and password == input_pass:\n",
    "        print(\"User Found\")\n",
    "        break\n",
    "else:\n",
    "    print(\"Not Found\")\n"
   ]
  },
  {
   "cell_type": "code",
   "execution_count": 9,
   "metadata": {},
   "outputs": [
    {
     "data": {
      "text/plain": [
       "[(0, 'Taha khan'), (1, 'Tahaaa'), (2, 'Tahhhhhaaa')]"
      ]
     },
     "execution_count": 9,
     "metadata": {},
     "output_type": "execute_result"
    }
   ],
   "source": [
    "names : list[str] = [\"Taha khan\", \"Tahaaa\", \"Tahhhhhaaa\"]\n",
    "\n",
    "list(enumerate(names))"
   ]
  },
  {
   "cell_type": "markdown",
   "metadata": {},
   "source": [
    "### Numbers with loop\n",
    "* range(start,end,step)"
   ]
  },
  {
   "cell_type": "code",
   "execution_count": 1,
   "metadata": {},
   "outputs": [
    {
     "data": {
      "text/plain": [
       "range(0, 10)"
      ]
     },
     "execution_count": 1,
     "metadata": {},
     "output_type": "execute_result"
    }
   ],
   "source": [
    "range(10)"
   ]
  },
  {
   "cell_type": "code",
   "execution_count": 2,
   "metadata": {},
   "outputs": [
    {
     "data": {
      "text/plain": [
       "[0, 1, 2, 3, 4, 5, 6, 7, 8, 9]"
      ]
     },
     "execution_count": 2,
     "metadata": {},
     "output_type": "execute_result"
    }
   ],
   "source": [
    "list(range(10)) # starting 0, ending n-1"
   ]
  },
  {
   "cell_type": "code",
   "execution_count": 3,
   "metadata": {},
   "outputs": [
    {
     "data": {
      "text/plain": [
       "[1, 2, 3, 4, 5, 6, 7, 8, 9]"
      ]
     },
     "execution_count": 3,
     "metadata": {},
     "output_type": "execute_result"
    }
   ],
   "source": [
    "list(range(1, 10)) # starting 1, ending n-1"
   ]
  },
  {
   "cell_type": "code",
   "execution_count": 4,
   "metadata": {},
   "outputs": [
    {
     "data": {
      "text/plain": [
       "[1, 3, 5, 7, 9]"
      ]
     },
     "execution_count": 4,
     "metadata": {},
     "output_type": "execute_result"
    }
   ],
   "source": [
    "list(range(1, 10, 2)) # starting 1, ending n-1, step 2"
   ]
  },
  {
   "cell_type": "code",
   "execution_count": 12,
   "metadata": {},
   "outputs": [
    {
     "name": "stdout",
     "output_type": "stream",
     "text": [
      "2 x 0 = 2\n",
      "2 x 1 = 4\n",
      "2 x 2 = 6\n",
      "2 x 3 = 8\n",
      "2 x 4 = 10\n",
      "2 x 5 = 12\n",
      "2 x 6 = 14\n",
      "2 x 7 = 16\n",
      "2 x 8 = 18\n",
      "2 x 9 = 20\n"
     ]
    }
   ],
   "source": [
    "for n in enumerate(range(2, 21, 2)):\n",
    "    print(f\"2 x {n[0]} = {n[1]}\")"
   ]
  },
  {
   "cell_type": "code",
   "execution_count": 14,
   "metadata": {},
   "outputs": [
    {
     "name": "stdout",
     "output_type": "stream",
     "text": [
      "[1, 4, 9, 16, 25, 36, 49, 64, 81, 100]\n"
     ]
    }
   ],
   "source": [
    "squares : list[int] = []\n",
    "\n",
    "for n in range(1, 11):\n",
    "    squares.append(n**2)\n",
    "\n",
    "print(squares)\n",
    "\n"
   ]
  },
  {
   "cell_type": "markdown",
   "metadata": {},
   "source": [
    "### List Comprehensive\n",
    "* for item in items_list:\n",
    "        loop body\n",
    "\n",
    "### Comprehensive style\n",
    "* [loop body for in items_list]        \n",
    "\n"
   ]
  },
  {
   "cell_type": "code",
   "execution_count": 15,
   "metadata": {},
   "outputs": [
    {
     "name": "stdout",
     "output_type": "stream",
     "text": [
      "1\n",
      "9\n",
      "45\n"
     ]
    }
   ],
   "source": [
    "digits : list[int] = [1, 2, 3, 4, 5, 6, 7, 8, 9]\n",
    "\n",
    "print(min(digits))\n",
    "print(max(digits))\n",
    "print(sum(digits))\n"
   ]
  },
  {
   "cell_type": "markdown",
   "metadata": {},
   "source": [
    "### Tuple"
   ]
  },
  {
   "cell_type": "code",
   "execution_count": 17,
   "metadata": {},
   "outputs": [
    {
     "name": "stdout",
     "output_type": "stream",
     "text": [
      "Taha\n"
     ]
    }
   ],
   "source": [
    "data : tuple[str, str, str] = (\"Taha\", \"Khan\", \"PIAIC\")\n",
    "# tuple is immutable\n",
    "\n",
    "print(data[0])"
   ]
  },
  {
   "cell_type": "code",
   "execution_count": 19,
   "metadata": {},
   "outputs": [
    {
     "name": "stdout",
     "output_type": "stream",
     "text": [
      "('Taha', [1, 2, 3, 4, 5, 6, 7, 8, 9, 10])\n"
     ]
    }
   ],
   "source": [
    "datas : tuple[str, list:[int]] = (\"Taha\", [1, 2, 3, 4, 5, 6, 7, 8, 9])\n",
    "\n",
    "datas[1].append(10)\n",
    "# here we hav'nt change the tuple but we change the list inside the tuple\n",
    "print(datas)"
   ]
  },
  {
   "cell_type": "markdown",
   "metadata": {},
   "source": [
    "### Set\n"
   ]
  },
  {
   "cell_type": "code",
   "execution_count": 1,
   "metadata": {},
   "outputs": [
    {
     "name": "stdout",
     "output_type": "stream",
     "text": [
      "{1, 3, 5, 7, 9}\n"
     ]
    }
   ],
   "source": [
    "data : set = {7,1,1,1,1,3,3,5,9,1}\n",
    "print(data)"
   ]
  },
  {
   "cell_type": "code",
   "execution_count": 3,
   "metadata": {},
   "outputs": [
    {
     "data": {
      "text/plain": [
       "['add',\n",
       " 'clear',\n",
       " 'copy',\n",
       " 'difference',\n",
       " 'difference_update',\n",
       " 'discard',\n",
       " 'intersection',\n",
       " 'intersection_update',\n",
       " 'isdisjoint',\n",
       " 'issubset',\n",
       " 'issuperset',\n",
       " 'pop',\n",
       " 'remove',\n",
       " 'symmetric_difference',\n",
       " 'symmetric_difference_update',\n",
       " 'union',\n",
       " 'update']"
      ]
     },
     "execution_count": 3,
     "metadata": {},
     "output_type": "execute_result"
    }
   ],
   "source": [
    "[i for i in dir(data) if \"__\" not in i]"
   ]
  },
  {
   "cell_type": "code",
   "execution_count": 4,
   "metadata": {},
   "outputs": [
    {
     "data": {
      "text/plain": [
       "{1, 2, 4, 7, 8}"
      ]
     },
     "metadata": {},
     "output_type": "display_data"
    },
    {
     "data": {
      "text/plain": [
       "[1, 2, 4, 7, 8]"
      ]
     },
     "metadata": {},
     "output_type": "display_data"
    }
   ],
   "source": [
    "data: set = {4,4,1,7,8,2}\n",
    "display(data)\n",
    "\n",
    "data_list : list[int] = list(data)\n",
    "display(data_list)\n"
   ]
  }
 ],
 "metadata": {
  "kernelspec": {
   "display_name": "python12",
   "language": "python",
   "name": "python3"
  },
  "language_info": {
   "codemirror_mode": {
    "name": "ipython",
    "version": 3
   },
   "file_extension": ".py",
   "mimetype": "text/x-python",
   "name": "python",
   "nbconvert_exporter": "python",
   "pygments_lexer": "ipython3",
   "version": "3.12.0"
  }
 },
 "nbformat": 4,
 "nbformat_minor": 2
}
