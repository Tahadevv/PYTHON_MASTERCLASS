{
 "cells": [
  {
   "cell_type": "markdown",
   "metadata": {},
   "source": [
    "## Dictionary\n",
    "* key:value (items)\n",
    "    * key replacement of indexes\n",
    "    * value item\n",
    "    \n",
    "* dict_variable[key]   \n",
    "    * dict_variable[new_key] = new_value\n",
    "         * add new value\n",
    "         * update neww value"
   ]
  },
  {
   "cell_type": "code",
   "execution_count": 10,
   "metadata": {},
   "outputs": [
    {
     "name": "stdout",
     "output_type": "stream",
     "text": [
      "{'abc': {'a': 1, 'b': 2, 'c': 3},\n",
      " 'age': 21,\n",
      " 'education': ['matric', 'inter', 'bs'],\n",
      " 'fname': 'taha khan',\n",
      " 'name': 'taha'}\n",
      "taha khan\n"
     ]
    },
    {
     "data": {
      "text/plain": [
       "1"
      ]
     },
     "execution_count": 10,
     "metadata": {},
     "output_type": "execute_result"
    }
   ],
   "source": [
    "from typing import Dict, Union\n",
    "import pprint\n",
    "\n",
    "#create a type alias\n",
    "Key = Union[str, int]\n",
    "Value = Union[str, int, list, dict, tuple, set]\n",
    "\n",
    "#dictionary\n",
    "data : Dict[Key, Value] = {\n",
    "    \"fname\" : \"taha khan\",\n",
    "    \"name\" : \"taha\",\n",
    "    \"age\" : 21,\n",
    "    \"education\" : [\"matric\", \"inter\", \"bs\"],\n",
    "    \"abc\" : {\"a\":1, \"b\":2, \"c\":3}\n",
    "}\n",
    "\n",
    "# pprint is a pretty print module\n",
    "pprint.pprint(data)\n",
    "print(data[\"fname\"])\n",
    "data[\"abc\"][\"a\"]"
   ]
  },
  {
   "cell_type": "code",
   "execution_count": 5,
   "metadata": {},
   "outputs": [
    {
     "name": "stdout",
     "output_type": "stream",
     "text": [
      "{'fname': 'Taha khan', 'name': 'Taha'}\n",
      "{'fname': 'Taha khan', 'name': 'Tahaaaaa'}\n",
      "Taha khan\n",
      "NA\n"
     ]
    }
   ],
   "source": [
    "from typing import Dict, Union\n",
    "import pprint\n",
    "\n",
    "#create a type alias\n",
    "Key = Union[str, int]\n",
    "Value = Union[str, int, list, dict, tuple, set]\n",
    "\n",
    "My_dict : Dict[Key, Value] = {}\n",
    "\n",
    "#add in dictionary\n",
    "My_dict[\"fname\"] = \"Taha khan\"\n",
    "My_dict[\"name\"] = \"Taha\"\n",
    "\n",
    "pprint.pprint(My_dict)\n",
    "\n",
    "# update in dictionary\n",
    "My_dict[\"name\"] = \"Tahaaaaa\"\n",
    "\n",
    "pprint.pprint(My_dict)\n",
    "\n",
    "print(My_dict.get(\"fname\"))\n",
    "print(My_dict.get(\"namea\",\"NA\"))\n"
   ]
  },
  {
   "cell_type": "code",
   "execution_count": 8,
   "metadata": {},
   "outputs": [
    {
     "name": "stdout",
     "output_type": "stream",
     "text": [
      "['clear', 'copy', 'fromkeys', 'get', 'items', 'keys', 'pop', 'popitem', 'setdefault', 'update', 'values']\n"
     ]
    }
   ],
   "source": [
    "from typing import Dict\n",
    "\n",
    "\n",
    "\n",
    "methods : str = [i for i in dir(My_dict) if \"__\" not in i]\n",
    "\n",
    "print(methods)"
   ]
  },
  {
   "cell_type": "code",
   "execution_count": 7,
   "metadata": {},
   "outputs": [
    {
     "name": "stdout",
     "output_type": "stream",
     "text": [
      "dict_keys(['fname', 'name'])\n",
      "dict_values(['Taha khan', 'Tahaaaaa'])\n",
      "dict_items([('fname', 'Taha khan'), ('name', 'Tahaaaaa')])\n",
      "fname Taha khan\n",
      "name Tahaaaaa\n",
      "Taha khan\n",
      "Tahaaaaa\n",
      "fname Taha khan\n",
      "name Tahaaaaa\n"
     ]
    }
   ],
   "source": [
    "print(My_dict.keys())\n",
    "print(My_dict.values())\n",
    "print(My_dict.items())\n",
    "\n",
    "\n",
    "\n",
    "\n",
    "for d in My_dict:\n",
    "    print(d, My_dict[d])\n",
    "    \n",
    "for v in My_dict.values():\n",
    "    print(v)    \n",
    "    \n",
    "for k,v in My_dict.items():\n",
    "    print(k,v)        "
   ]
  },
  {
   "cell_type": "code",
   "execution_count": 34,
   "metadata": {},
   "outputs": [
    {
     "data": {
      "text/plain": [
       "{'Taha khan': 'fname', 'Tahaaaaa': 'name'}"
      ]
     },
     "execution_count": 34,
     "metadata": {},
     "output_type": "execute_result"
    }
   ],
   "source": [
    "{v:k for k,v in My_dict.items()}"
   ]
  },
  {
   "cell_type": "code",
   "execution_count": 37,
   "metadata": {},
   "outputs": [
    {
     "name": "stdout",
     "output_type": "stream",
     "text": [
      "{}\n",
      "{'id': None, 'name': None, 'fname': None, 'course': None}\n"
     ]
    }
   ],
   "source": [
    "keys : list[str] = ['id','name','fname','course']\n",
    "\n",
    "data : Dict[Key, Value] = {}\n",
    "\n",
    "print(data)\n",
    "\n",
    "data = data.fromkeys(keys) #inline\n",
    "\n",
    "print(data)\n",
    "\n",
    "\n",
    "\n"
   ]
  },
  {
   "cell_type": "code",
   "execution_count": 10,
   "metadata": {},
   "outputs": [
    {
     "name": "stdout",
     "output_type": "stream",
     "text": [
      "Before {'fname': 'taha khan', 'name': 'taha', 'age': 21}\n",
      "After {}\n"
     ]
    }
   ],
   "source": [
    "from typing import Dict, Union\n",
    "import pprint\n",
    "\n",
    "#create a type alias\n",
    "Key = Union[str, int]\n",
    "Value = Union[str, int, list, dict, tuple, set]\n",
    "\n",
    "data : Dict[Key, Value] = {\n",
    "    \"fname\" : \"taha khan\",\n",
    "    \"name\" : \"taha\",\n",
    "    \"age\" : 21,\n",
    "}\n",
    "\n",
    "print(\"Before\",data)\n",
    "\n",
    "data.clear()\n",
    "print(\"After\",data)\n",
    "\n"
   ]
  },
  {
   "cell_type": "code",
   "execution_count": 20,
   "metadata": {},
   "outputs": [
    {
     "name": "stdout",
     "output_type": "stream",
     "text": [
      "Before {'fname': 'taha khan', 'name': 'taha', 'age': 21}\n",
      "After {'name': 'taha', 'age': 21}\n",
      "taha khan\n",
      "After {'name': 'taha'}\n",
      "After {'name': 'taha', 'fname': 'Taha'}\n",
      "Taha\n",
      "After {'name': 'taha', 'fname': 'Taha'}\n"
     ]
    }
   ],
   "source": [
    "import pprint\n",
    "\n",
    "#create a type alias\n",
    "Key = Union[str, int]\n",
    "Value = Union[str, int, list, dict, tuple, set]\n",
    "\n",
    "data : Dict[Key, Value] = {\n",
    "    \"fname\" : \"taha khan\",\n",
    "    \"name\" : \"taha\",\n",
    "    \"age\" : 21,\n",
    "}\n",
    "\n",
    "print(\"Before\",data)\n",
    "\n",
    "#copy dictionary\n",
    "d0 = data.copy()\n",
    "\n",
    "#pop remove the key and return the value\n",
    "d1 = data.pop(\"fname\")\n",
    "print(\"After\",data)\n",
    "print(d1)\n",
    "\n",
    "#popitem remove the last key and return the value\n",
    "d2 = data.popitem()\n",
    "print(\"After\",data)\n",
    "\n",
    "d3 = data.setdefault(\"fname\",\"Taha\")\n",
    "print(\"After\",data)\n",
    "\n",
    "d4 = data.get(\"fname\",\"NA\")\n",
    "print(d4)\n",
    "print(\"After\",data)\n"
   ]
  },
  {
   "cell_type": "code",
   "execution_count": 22,
   "metadata": {},
   "outputs": [
    {
     "name": "stdout",
     "output_type": "stream",
     "text": [
      "{'abc': {'a': 1, 'b': 2, 'c': 3},\n",
      " 'age': 21,\n",
      " 'education': ['matric', 'inter', 'bs'],\n",
      " 'fname': 'taha khannnn',\n",
      " 'name': 'taha'}\n"
     ]
    }
   ],
   "source": [
    "import pprint\n",
    "\n",
    "#create a type alias\n",
    "Key = Union[str, int]\n",
    "Value = Union[str, int, list, dict, tuple, set]\n",
    "\n",
    "data : Dict[Key, Value] = {\n",
    "    \"fname\" : \"taha khan\",\n",
    "    \"name\" : \"taha\",\n",
    "    \"age\" : 21,\n",
    "}\n",
    "\n",
    "data1 : Dict[Key, Value] = {\n",
    "    \"fname\" : \"taha khannnn\",\n",
    "    \"education\" : [\"matric\", \"inter\", \"bs\"],\n",
    "    \"abc\" : {\"a\":1, \"b\":2, \"c\":3}\n",
    "}\n",
    "\n",
    "data.update(data1)\n",
    "pprint.pprint(data)"
   ]
  },
  {
   "cell_type": "code",
   "execution_count": 25,
   "metadata": {},
   "outputs": [
    {
     "name": "stdout",
     "output_type": "stream",
     "text": [
      "   roll_no    name course\n",
      "0        1    Taha     AI\n",
      "1        2  Mazhar    CNC\n",
      "2        3     Ali     AI\n",
      "3        4    Sami    CNC\n",
      "4        5    Khan     AI\n"
     ]
    }
   ],
   "source": [
    "import pandas as pd\n",
    "from typing import Dict, Union, Any\n",
    "\n",
    "students_data : Dict[str, Any] = {\n",
    "    \"roll_no\" : [1,2,3,4,5],\n",
    "    \"name\" : [\"Taha\",\"Mazhar\",\"Ali\",\"Sami\",\"Khan\"],\n",
    "    \"course\" : [\"AI\",\"CNC\",\"AI\",\"CNC\",\"AI\"],\n",
    "}\n",
    "\n",
    "df : pd.DataFrame = pd.DataFrame(students_data)\n",
    "print(df)"
   ]
  },
  {
   "cell_type": "code",
   "execution_count": 26,
   "metadata": {},
   "outputs": [
    {
     "name": "stdout",
     "output_type": "stream",
     "text": [
      "Jen\n",
      "Sarah\n",
      " Hi Sarah, I see your favourate language is C!\n",
      "Edward\n",
      "Phil\n",
      " Hi Phil, I see your favourate language is Python!\n"
     ]
    }
   ],
   "source": [
    "favourate_languages : Dict[str, str] = {\n",
    "    \"jen\" : \"python\",\n",
    "    \"sarah\" : \"c\",\n",
    "    \"edward\" : \"ruby\",\n",
    "    \"phil\" : \"python\",\n",
    "    \n",
    "}\n",
    "\n",
    "friends = [\"phil\",\"sarah\"]\n",
    "for name in favourate_languages.keys():\n",
    "    print(name.title())\n",
    "    \n",
    "    if name in friends:\n",
    "        print(\" Hi \" + name.title() + \", I see your favourate language is \" + favourate_languages[name].title() + \"!\") "
   ]
  },
  {
   "cell_type": "code",
   "execution_count": 27,
   "metadata": {},
   "outputs": [
    {
     "name": "stdout",
     "output_type": "stream",
     "text": [
      "Erin, please take our poll!\n"
     ]
    }
   ],
   "source": [
    "if \"erin\" not in favourate_languages.keys():\n",
    "    print(\"Erin, please take our poll!\")"
   ]
  },
  {
   "cell_type": "code",
   "execution_count": 28,
   "metadata": {},
   "outputs": [
    {
     "data": {
      "text/plain": [
       "True"
      ]
     },
     "execution_count": 28,
     "metadata": {},
     "output_type": "execute_result"
    }
   ],
   "source": [
    "\"Taha\" in \"\"\"My name is Taha Khan and I am a student of PIAIC\"\"\""
   ]
  },
  {
   "cell_type": "code",
   "execution_count": 31,
   "metadata": {},
   "outputs": [
    {
     "name": "stdout",
     "output_type": "stream",
     "text": [
      "[]\n",
      "[{'color': 'green', 'points': 5, 'speed': 'slow'},\n",
      " {'color': 'green', 'points': 5, 'speed': 'slow'},\n",
      " {'color': 'green', 'points': 5, 'speed': 'slow'},\n",
      " {'color': 'green', 'points': 5, 'speed': 'slow'},\n",
      " {'color': 'green', 'points': 5, 'speed': 'slow'}]\n"
     ]
    }
   ],
   "source": [
    "import pprint\n",
    "\n",
    "aliens : list[Dict[str,str]] = []\n",
    "print(aliens)\n",
    "\n",
    "for alien_number in range(30):\n",
    "    new_alien = {\"color\" : \"green\", \"points\" : 5, \"speed\" : \"slow\"}\n",
    "    aliens.append(new_alien)\n",
    "\n",
    "pprint.pprint(aliens[:5])       \n",
    "\n"
   ]
  },
  {
   "cell_type": "code",
   "execution_count": 38,
   "metadata": {},
   "outputs": [
    {
     "data": {
      "text/plain": [
       "'{\"name\": \"sathiyajith\", \"rollno\": 56, \"cgpa\": 8.6, \"phonenumber\": \"9976770500\"}'"
      ]
     },
     "metadata": {},
     "output_type": "display_data"
    },
    {
     "name": "stdout",
     "output_type": "stream",
     "text": [
      "{\"name\": \"sathiyajith\", \"rollno\": 56, \"cgpa\": 8.6, \"phonenumber\": \"9976770500\"}\n"
     ]
    }
   ],
   "source": [
    "import json \n",
    "    \n",
    "# Define student_details dictionary\n",
    "student_details ={ \n",
    "    \"name\" : \"sathiyajith\", \n",
    "    \"rollno\" : 56, \n",
    "    \"cgpa\" : 8.6, \n",
    "    \"phonenumber\" : \"9976770500\"\n",
    "} \n",
    "    \n",
    "\n",
    "json_data = json.dumps(student_details)\n",
    "display(json_data)\n",
    "print(json_data)\n",
    "\n",
    "\n"
   ]
  }
 ],
 "metadata": {
  "kernelspec": {
   "display_name": "python12",
   "language": "python",
   "name": "python3"
  },
  "language_info": {
   "codemirror_mode": {
    "name": "ipython",
    "version": 3
   },
   "file_extension": ".py",
   "mimetype": "text/x-python",
   "name": "python",
   "nbconvert_exporter": "python",
   "pygments_lexer": "ipython3",
   "version": "3.12.0"
  }
 },
 "nbformat": 4,
 "nbformat_minor": 2
}
