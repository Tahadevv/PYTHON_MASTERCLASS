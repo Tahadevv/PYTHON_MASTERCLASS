{
 "cells": [
  {
   "cell_type": "markdown",
   "metadata": {},
   "source": [
    "# Lists in Pythoon\n",
    "* dynamic lenght\n",
    "* hetrogenous data types (Multiple Type)\n",
    "* index\n",
    "     * positive 0 to n-1\n",
    "     * negative -1 to lenght\n",
    "* Slicing\n",
    "     * variable `names[start:end:step]`\n",
    "     * start : int = include\n",
    "     * end : int = n-1 \n",
    "     * step : int = sequence"
   ]
  },
  {
   "cell_type": "code",
   "execution_count": 3,
   "metadata": {},
   "outputs": [
    {
     "name": "stdout",
     "output_type": "stream",
     "text": [
      "Taha\n",
      "Taha\n",
      "Taha khan\n"
     ]
    }
   ],
   "source": [
    "# -->      0          1           2 \n",
    "names = [\"Taha\", \"Taha khan\", \"Tahaaa\"]\n",
    "# <--     -3        -2           -1\n",
    "\n",
    "print(names[0])\n",
    "print(names[-3])\n",
    "print(names[-2])\n"
   ]
  },
  {
   "cell_type": "code",
   "execution_count": 10,
   "metadata": {},
   "outputs": [
    {
     "name": "stdout",
     "output_type": "stream",
     "text": [
      "<class 'list'>\n",
      "<class 'bool'>\n",
      "My name is TAHA KHAN\n"
     ]
    }
   ],
   "source": [
    "from typing import Any\n",
    "\n",
    "# -->                   0          1          2     3     4     5           \n",
    "names : list[Any] = [\"Taha\", \"Taha khan\", \"Tahaaa\", 43 , 87.5, True]\n",
    "# <--                  -6         -5         -4    -3    -2    -1\n",
    "\n",
    "print(type(names))\n",
    "print(type(names[-1]))\n",
    "print(f'My name is {names[-5].upper()}')"
   ]
  },
  {
   "cell_type": "code",
   "execution_count": 11,
   "metadata": {},
   "outputs": [
    {
     "name": "stdout",
     "output_type": "stream",
     "text": [
      "['A', 'B', 'C', 'D', 'E', 'F', 'G', 'H', 'I', 'J', 'K', 'L', 'M', 'N', 'O', 'P', 'Q', 'R', 'S', 'T', 'U', 'V', 'W', 'X', 'Y', 'Z']\n"
     ]
    }
   ],
   "source": [
    "charactors : list[str] = list('ABCDEFGHIJKLMNOPQRSTUVWXYZ')\n",
    "print(charactors)"
   ]
  },
  {
   "cell_type": "code",
   "execution_count": 12,
   "metadata": {},
   "outputs": [
    {
     "name": "stdout",
     "output_type": "stream",
     "text": [
      "['A', 'B', 'C', 'D', 'E']\n",
      "['A', 'B', 'C', 'D', 'E', 'F', 'G', 'H', 'I', 'J']\n",
      "['A', 'D', 'G', 'J', 'M', 'P', 'S', 'V']\n",
      "['A', 'C', 'E', 'G', 'I', 'K', 'M', 'O', 'Q', 'S', 'U', 'W', 'Y']\n"
     ]
    }
   ],
   "source": [
    "# -->                      0    1    2    3    4    5    6    7    8    9   10   11   12   13   14   15   16   17  18   19   20   21   22   23   24   25 \n",
    "charactors : list[str] = ['A', 'B', 'C', 'D', 'E', 'F', 'G', 'H', 'I', 'J', 'K', 'L', 'M', 'N', 'O', 'P', 'Q', 'R', 'S', 'T', 'U', 'V', 'W', 'X', 'Y', 'Z']\n",
    "# <--                     -26  -25 -24  -23  -22  -21  -20  -19  -18  -17  -16  -15  -14  -13  -12  -11  -10  -9   -8   -7   -6   -5   -4   -3   -2   -1\n",
    "\n",
    "# Default slicing goes from left to right\n",
    "print(charactors[0:5])  # 0 = include : index 5-1 = 4\n",
    "print(charactors[:10])  # not passing start index means start from 0\n",
    "\n",
    "print(charactors[-26: 23: 3])  # -25 = include : index -23-1 = -24\n",
    "print(charactors[::2])  # not passing start index means start from 0"
   ]
  },
  {
   "cell_type": "code",
   "execution_count": 15,
   "metadata": {},
   "outputs": [
    {
     "name": "stdout",
     "output_type": "stream",
     "text": [
      "['B', 'C', 'D', 'E', 'F']\n",
      "[]\n",
      "['I', 'H', 'G']\n"
     ]
    }
   ],
   "source": [
    "# -->                      0    1    2    3    4    5    6    7    8  \n",
    "characters : list[str] = ['A', 'B', 'C', 'D', 'E', 'F', 'G', 'H', 'I']\n",
    "# <--                     -9  -8   -7   -6   -5   -4   -3   -2   -1\n",
    "\n",
    "print(characters[1:-3])\n",
    "print(characters[-1:-4])\n",
    "print(characters[-1:-4:-1]) # -1 in step means go from right to left\n"
   ]
  },
  {
   "cell_type": "markdown",
   "metadata": {},
   "source": [
    "# List Methods "
   ]
  },
  {
   "cell_type": "code",
   "execution_count": 19,
   "metadata": {},
   "outputs": [
    {
     "name": "stdout",
     "output_type": "stream",
     "text": [
      "['Taha Khannnnn', 'Taha khan', 'Tahaaa', 43, 87.5, True]\n",
      "['Taha Khannnnn', 'Taha khan', 'Tahaaa', 43, True]\n"
     ]
    }
   ],
   "source": [
    "from typing import Any\n",
    "\n",
    "# -->                   0          1          2     3     4     5           \n",
    "names : list[Any] = [\"Taha\", \"Taha khan\", \"Tahaaa\", 43 , 87.5, True]\n",
    "# <--                  -6         -5         -4    -3    -2    -1\n",
    "names[0] = \"Taha Khannnnn\"\n",
    "print(names)\n",
    "\n",
    "del names[4] # delete 87.5\n",
    "print(names)"
   ]
  },
  {
   "cell_type": "code",
   "execution_count": 20,
   "metadata": {},
   "outputs": [
    {
     "data": {
      "text/plain": [
       "['append',\n",
       " 'clear',\n",
       " 'copy',\n",
       " 'count',\n",
       " 'extend',\n",
       " 'index',\n",
       " 'insert',\n",
       " 'pop',\n",
       " 'remove',\n",
       " 'reverse',\n",
       " 'sort']"
      ]
     },
     "execution_count": 20,
     "metadata": {},
     "output_type": "execute_result"
    }
   ],
   "source": [
    "[i for i in dir(list) if \"__\" not in i]"
   ]
  },
  {
   "cell_type": "markdown",
   "metadata": {},
   "source": [
    "## Help in python\n",
    "* help(object)\n",
    "* object?\n",
    "* object??\n",
    "* ?object\n",
    "* ??object"
   ]
  },
  {
   "cell_type": "code",
   "execution_count": 21,
   "metadata": {},
   "outputs": [
    {
     "name": "stdout",
     "output_type": "stream",
     "text": [
      "['Taha', 'Taha khan', 'Tahaaa', 43, 87.5, True]\n",
      "87.5\n",
      "['Taha', 'Taha khan', 'Tahaaa', 43, True]\n"
     ]
    }
   ],
   "source": [
    "from typing import Any\n",
    "\n",
    "# -->                   0          1          2     3     4     5           \n",
    "names : list[Any] = [\"Taha\", \"Taha khan\", \"Tahaaa\", 43 , 87.5, True]\n",
    "# <--                  -6         -5         -4    -3    -2    -1\n",
    "\n",
    "print(names)\n",
    "\n",
    "a : str = names.pop(4)\n",
    "print(a)\n",
    "print(names)"
   ]
  },
  {
   "cell_type": "code",
   "execution_count": 25,
   "metadata": {},
   "outputs": [
    {
     "name": "stdout",
     "output_type": "stream",
     "text": [
      "['Tahaaa', 'Taha khan', 'Taha']\n"
     ]
    }
   ],
   "source": [
    "# append # intsert\n",
    "names : list[str] = []\n",
    "\n",
    "names.append(\"Taha khan\")\n",
    "names.append(\"Taha\")\n",
    "names.insert(0, \"Tahaaa\")\n",
    "\n",
    "print(names)"
   ]
  },
  {
   "cell_type": "code",
   "execution_count": 26,
   "metadata": {},
   "outputs": [
    {
     "name": "stdout",
     "output_type": "stream",
     "text": [
      "[]\n"
     ]
    }
   ],
   "source": [
    "# clear() method\n",
    "names : list[str] = [\"Taha\", \"Taha khan\", \"Tahaaa\"]\n",
    "names.clear() # empty the list \n",
    "print(names)"
   ]
  },
  {
   "cell_type": "code",
   "execution_count": 28,
   "metadata": {},
   "outputs": [
    {
     "name": "stdout",
     "output_type": "stream",
     "text": [
      "a ['Taha', 'Taha khan', 'Tahaaa']\n",
      "b ['Taha', 'Taha khan', 'Tahaaa']\n",
      "a ['Taha', 'Taha khan', 'Tahaaa']\n",
      "b ['Taha Khannnnn', 'Taha khan', 'Tahaaa']\n"
     ]
    }
   ],
   "source": [
    "# count\n",
    "a : list[str] = [\"Taha\", \"Taha khan\", \"Tahaaa\"]\n",
    "b = a.copy() # deep copy\n",
    "print(\"a\",a)\n",
    "print(\"b\",b)\n",
    "\n",
    "b[0] = \"Taha Khannnnn\"\n",
    "print(\"a\",a)\n",
    "print(\"b\",b)"
   ]
  },
  {
   "cell_type": "code",
   "execution_count": 29,
   "metadata": {},
   "outputs": [
    {
     "name": "stdout",
     "output_type": "stream",
     "text": [
      "3\n"
     ]
    }
   ],
   "source": [
    "# count\n",
    "names : list[str] = [\"a\",\"a\",\"a\",\"b\",\"b\",\"c\"]\n",
    "print(names.count(\"a\"))"
   ]
  },
  {
   "cell_type": "code",
   "execution_count": 30,
   "metadata": {},
   "outputs": [
    {
     "name": "stdout",
     "output_type": "stream",
     "text": [
      "['Taha', 'Taha khan', 'Tahaaa', 'a', 'a', 'a', 'b', 'b', 'c']\n"
     ]
    }
   ],
   "source": [
    "# extend\n",
    "names : list[str] = [\"Taha\", \"Taha khan\", \"Tahaaa\"]\n",
    "\n",
    "names1 : list[str] = [\"a\",\"a\",\"a\",\"b\",\"b\",\"c\"]\n",
    "\n",
    "names.extend(names1)\n",
    "print(names)"
   ]
  },
  {
   "cell_type": "code",
   "execution_count": 31,
   "metadata": {},
   "outputs": [
    {
     "name": "stdout",
     "output_type": "stream",
     "text": [
      "['Taha khan', 'Tahaaa']\n"
     ]
    }
   ],
   "source": [
    "# remove\n",
    "names : list[str] = [\"Taha\", \"Taha khan\", \"Tahaaa\"]\n",
    "\n",
    "names.remove(\"Taha\") # remove with text value\n",
    "\n",
    "print(names)"
   ]
  },
  {
   "cell_type": "code",
   "execution_count": 32,
   "metadata": {},
   "outputs": [
    {
     "name": "stdout",
     "output_type": "stream",
     "text": [
      "1\n"
     ]
    }
   ],
   "source": [
    "#index\n",
    "names : list[str] = [\"Taha\", \"Taha khan\", \"Tahaaa\"]\n",
    "print(names.index(\"Taha khan\"))"
   ]
  }
 ],
 "metadata": {
  "kernelspec": {
   "display_name": "python12",
   "language": "python",
   "name": "python3"
  },
  "language_info": {
   "codemirror_mode": {
    "name": "ipython",
    "version": 3
   },
   "file_extension": ".py",
   "mimetype": "text/x-python",
   "name": "python",
   "nbconvert_exporter": "python",
   "pygments_lexer": "ipython3",
   "version": "3.12.0"
  }
 },
 "nbformat": 4,
 "nbformat_minor": 2
}
