{
 "cells": [
  {
   "cell_type": "markdown",
   "metadata": {},
   "source": [
    "# Starting python with static types.."
   ]
  },
  {
   "cell_type": "code",
   "execution_count": 1,
   "metadata": {},
   "outputs": [
    {
     "name": "stdout",
     "output_type": "stream",
     "text": [
      "Hello World\n"
     ]
    }
   ],
   "source": [
    "print(\"Hello World\")"
   ]
  },
  {
   "cell_type": "markdown",
   "metadata": {},
   "source": [
    "## String"
   ]
  },
  {
   "cell_type": "code",
   "execution_count": 3,
   "metadata": {},
   "outputs": [
    {
     "name": "stdout",
     "output_type": "stream",
     "text": [
      "Taha khan\n",
      "<class 'str'>\n",
      "2149606196080\n",
      "['capitalize', 'casefold', 'center', 'count', 'encode', 'endswith', 'expandtabs', 'find', 'format', 'format_map', 'index', 'isalnum', 'isalpha', 'isascii', 'isdecimal', 'isdigit', 'isidentifier', 'islower', 'isnumeric', 'isprintable', 'isspace', 'istitle', 'isupper', 'join', 'ljust', 'lower', 'lstrip', 'maketrans', 'partition', 'removeprefix', 'removesuffix', 'replace', 'rfind', 'rindex', 'rjust', 'rpartition', 'rsplit', 'rstrip', 'split', 'splitlines', 'startswith', 'strip', 'swapcase', 'title', 'translate', 'upper', 'zfill']\n"
     ]
    }
   ],
   "source": [
    "name = \"Taha khan\"\n",
    "print(name)  # print\n",
    "print(type(name))  # type\n",
    "print(id(name))  # physical address\n",
    "print([i for i in dir(name) if \"__\" not in i])  # methods & attributes"
   ]
  },
  {
   "cell_type": "markdown",
   "metadata": {},
   "source": [
    "## Data Types with restricted types"
   ]
  },
  {
   "cell_type": "code",
   "execution_count": null,
   "metadata": {},
   "outputs": [],
   "source": [
    "name : str = \"Taha khan\"\n",
    "print(name)  # print\n",
    "print(type(name))  # type\n",
    "print(id(name))  # physical address\n",
    "print([i for i in dir(name) if \"__\" not in i])  # methods & attributes"
   ]
  },
  {
   "cell_type": "code",
   "execution_count": null,
   "metadata": {},
   "outputs": [],
   "source": [
    "name : int = 10\n",
    "print(name)  # print\n",
    "print(type(name))  # type\n",
    "print(id(name))  # physical address\n",
    "print([i for i in dir(name) if \"__\" not in i])  # methods & attributes"
   ]
  },
  {
   "cell_type": "code",
   "execution_count": 5,
   "metadata": {},
   "outputs": [
    {
     "name": "stdout",
     "output_type": "stream",
     "text": [
      "400.12\n",
      "<class 'float'>\n",
      "2149605459248\n",
      "['as_integer_ratio', 'conjugate', 'fromhex', 'hex', 'imag', 'is_integer', 'real']\n"
     ]
    }
   ],
   "source": [
    "name : float = 400.12\n",
    "print(name)  # print\n",
    "print(type(name))  # type\n",
    "print(id(name))  # physical address\n",
    "print([i for i in dir(name) if \"__\" not in i])  # methods & attributes"
   ]
  },
  {
   "cell_type": "code",
   "execution_count": 4,
   "metadata": {},
   "outputs": [
    {
     "name": "stdout",
     "output_type": "stream",
     "text": [
      "False\n",
      "<class 'bool'>\n",
      "140703194155760\n",
      "['as_integer_ratio', 'bit_count', 'bit_length', 'conjugate', 'denominator', 'from_bytes', 'imag', 'is_integer', 'numerator', 'real', 'to_bytes']\n"
     ]
    }
   ],
   "source": [
    "name : bool = False\n",
    "print(name)  # print\n",
    "print(type(name))  # type\n",
    "print(id(name))  # physical address\n",
    "print([i for i in dir(name) if \"__\" not in i])  # methods & attributes"
   ]
  },
  {
   "cell_type": "code",
   "execution_count": 6,
   "metadata": {},
   "outputs": [
    {
     "name": "stdout",
     "output_type": "stream",
     "text": [
      "['Taha khan', 'Ali', 'Ahmed']\n",
      "<class 'list'>\n",
      "2149606323392\n",
      "['append', 'clear', 'copy', 'count', 'extend', 'index', 'insert', 'pop', 'remove', 'reverse', 'sort']\n"
     ]
    }
   ],
   "source": [
    "name : list[str] = [\"Taha khan\", \"Ali\", \"Ahmed\"]\n",
    "print(name)  # print\n",
    "print(type(name))  # type\n",
    "print(id(name))  # physical address\n",
    "print([i for i in dir(name) if \"__\" not in i])  # methods & attributes"
   ]
  },
  {
   "cell_type": "code",
   "execution_count": 7,
   "metadata": {},
   "outputs": [
    {
     "name": "stdout",
     "output_type": "stream",
     "text": [
      "('Taha khan', 10, True)\n",
      "<class 'tuple'>\n",
      "2149606317696\n",
      "['count', 'index']\n"
     ]
    }
   ],
   "source": [
    "name : tuple[str,int,bool] = (\"Taha khan\", 10, True)\n",
    "print(name)  # print\n",
    "print(type(name))  # type\n",
    "print(id(name))  # physical address\n",
    "print([i for i in dir(name) if \"__\" not in i])  # methods & attributes"
   ]
  },
  {
   "cell_type": "markdown",
   "metadata": {},
   "source": [
    "## String Data Type"
   ]
  },
  {
   "cell_type": "code",
   "execution_count": 17,
   "metadata": {},
   "outputs": [
    {
     "name": "stdout",
     "output_type": "stream",
     "text": [
      "PIAIC Student Card\n",
      "Student Name : Taha khan\n",
      "age :20\n"
     ]
    }
   ],
   "source": [
    "# Bounderies\n",
    "# \"string text\", 'string text', \"\"\"string text\"\"\", '''string text'''\n",
    "\n",
    "name : str = \"Taha khan\"\n",
    "fname : str = \"Murad khan\"\n",
    "education : str = \"BSCS\"\n",
    "age: int = 20\n",
    "\n",
    "card : str = \"PIAIC Student Card\\nStudent Name : \" + name + \"\\nage : \" + str(age)\n",
    "\n",
    "print(card)\n"
   ]
  },
  {
   "cell_type": "code",
   "execution_count": 11,
   "metadata": {},
   "outputs": [
    {
     "name": "stdout",
     "output_type": "stream",
     "text": [
      "Taha khan \n",
      " Father's name : Murad khan\n"
     ]
    }
   ],
   "source": [
    "# convert special characters into normal characters, place \\ before special character\n",
    "\n",
    "name : str = 'Taha khan \\n Father\\'s name : Murad khan'\n",
    "print(name)  # print"
   ]
  },
  {
   "cell_type": "markdown",
   "metadata": {},
   "source": [
    "### \"/\" Line Continue"
   ]
  },
  {
   "cell_type": "code",
   "execution_count": 18,
   "metadata": {},
   "outputs": [
    {
     "name": "stdout",
     "output_type": "stream",
     "text": [
      "14\n"
     ]
    }
   ],
   "source": [
    "print(7 + \\\n",
    "    3 + \\\n",
    "        +4)"
   ]
  },
  {
   "cell_type": "markdown",
   "metadata": {},
   "source": [
    "## Define MultiLine String \"\"\" \"\"\", ''' '''"
   ]
  },
  {
   "cell_type": "code",
   "execution_count": 23,
   "metadata": {},
   "outputs": [
    {
     "name": "stdout",
     "output_type": "stream",
     "text": [
      "\n",
      "PIAIC Student Card \n",
      "Student Name : Taha khan\n",
      "Father's Name : Murad khan\n",
      "Age : 20\n",
      "Education : BSCS\n",
      "\n",
      "\n"
     ]
    }
   ],
   "source": [
    "name : str = \"Taha khan\"\n",
    "fname : str = \"Murad khan\"\n",
    "education : str = \"BSCS\"\n",
    "age: int = 20\n",
    "\n",
    "# we are using fstring to access variables in string\n",
    "# jinja style is also used in concatination of string like {{name}}\n",
    "\n",
    "card : str = f\"\"\"\n",
    "PIAIC Student Card \n",
    "Student Name : {name}\n",
    "Father's Name : {fname}\n",
    "Age : {age}\n",
    "Education : {education}\n",
    "\n",
    "\"\"\"\n",
    "\n",
    "print(card)"
   ]
  },
  {
   "cell_type": "code",
   "execution_count": 24,
   "metadata": {},
   "outputs": [
    {
     "data": {
      "text/plain": [
       "['capitalize',\n",
       " 'casefold',\n",
       " 'center',\n",
       " 'count',\n",
       " 'encode',\n",
       " 'endswith',\n",
       " 'expandtabs',\n",
       " 'find',\n",
       " 'format',\n",
       " 'format_map',\n",
       " 'index',\n",
       " 'isalnum',\n",
       " 'isalpha',\n",
       " 'isascii',\n",
       " 'isdecimal',\n",
       " 'isdigit',\n",
       " 'isidentifier',\n",
       " 'islower',\n",
       " 'isnumeric',\n",
       " 'isprintable',\n",
       " 'isspace',\n",
       " 'istitle',\n",
       " 'isupper',\n",
       " 'join',\n",
       " 'ljust',\n",
       " 'lower',\n",
       " 'lstrip',\n",
       " 'maketrans',\n",
       " 'partition',\n",
       " 'removeprefix',\n",
       " 'removesuffix',\n",
       " 'replace',\n",
       " 'rfind',\n",
       " 'rindex',\n",
       " 'rjust',\n",
       " 'rpartition',\n",
       " 'rsplit',\n",
       " 'rstrip',\n",
       " 'split',\n",
       " 'splitlines',\n",
       " 'startswith',\n",
       " 'strip',\n",
       " 'swapcase',\n",
       " 'title',\n",
       " 'translate',\n",
       " 'upper',\n",
       " 'zfill']"
      ]
     },
     "execution_count": 24,
     "metadata": {},
     "output_type": "execute_result"
    }
   ],
   "source": [
    "[i for i in dir(str) if \"__\" not in i]"
   ]
  },
  {
   "cell_type": "code",
   "execution_count": 25,
   "metadata": {},
   "outputs": [
    {
     "data": {
      "text/plain": [
       "'pakistan value a = 7 and value b = 6'"
      ]
     },
     "execution_count": 25,
     "metadata": {},
     "output_type": "execute_result"
    }
   ],
   "source": [
    "a = 7\n",
    "b = 6\n",
    "\n",
    "#                   0                 1         0,1  \n",
    "\"pakistan value a = {} and value b = {}\".format(a,b)"
   ]
  },
  {
   "cell_type": "code",
   "execution_count": 36,
   "metadata": {},
   "outputs": [
    {
     "name": "stdout",
     "output_type": "stream",
     "text": [
      "\n",
      "PIAIC Student Card \n",
      "Student Name : Taha khan\n",
      "Father's Name : Murad khan\n",
      "Age : 20\n",
      "Education : BSCS\n",
      "\n",
      "\n"
     ]
    }
   ],
   "source": [
    "name : str = \"Taha khan\"\n",
    "fname : str = \"Murad khan\"\n",
    "education : str = \"BSCS\"\n",
    "age: int = 20\n",
    "\n",
    "card : str = \"\"\"\n",
    "PIAIC Student Card \n",
    "Student Name : {0}\n",
    "Father's Name : {1}\n",
    "Age : {2}\n",
    "Education : {3}\n",
    "\n",
    "\"\"\".format(name,fname,age,education)\n",
    "\n",
    "print(card)"
   ]
  },
  {
   "cell_type": "markdown",
   "metadata": {},
   "source": [
    "## Explore String Methods & Attributes"
   ]
  },
  {
   "cell_type": "code",
   "execution_count": 38,
   "metadata": {},
   "outputs": [
    {
     "name": "stdout",
     "output_type": "stream",
     "text": [
      "['capitalize', 'casefold', 'center', 'count', 'encode', 'endswith', 'expandtabs', 'find', 'format', 'format_map', 'index', 'isalnum', 'isalpha', 'isascii', 'isdecimal', 'isdigit', 'isidentifier', 'islower', 'isnumeric', 'isprintable', 'isspace', 'istitle', 'isupper', 'join', 'ljust', 'lower', 'lstrip', 'maketrans', 'partition', 'removeprefix', 'removesuffix', 'replace', 'rfind', 'rindex', 'rjust', 'rpartition', 'rsplit', 'rstrip', 'split', 'splitlines', 'startswith', 'strip', 'swapcase', 'title', 'translate', 'upper', 'zfill']\n",
      "47\n"
     ]
    }
   ],
   "source": [
    "a : list[str] = [i for i in dir(str) if \"__\" not in i]\n",
    "print(a)\n",
    "print(len(a))"
   ]
  },
  {
   "cell_type": "code",
   "execution_count": 42,
   "metadata": {},
   "outputs": [
    {
     "name": "stdout",
     "output_type": "stream",
     "text": [
      "Taha khan\n",
      "Taha khan\n",
      "taha khan\n"
     ]
    },
    {
     "data": {
      "text/plain": [
       "'TAHA KHAN         '"
      ]
     },
     "metadata": {},
     "output_type": "display_data"
    },
    {
     "data": {
      "text/plain": [
       "'           TAHA KHAN'"
      ]
     },
     "metadata": {},
     "output_type": "display_data"
    },
    {
     "data": {
      "text/plain": [
       "'TAHA KHAN'"
      ]
     },
     "metadata": {},
     "output_type": "display_data"
    }
   ],
   "source": [
    "name : str = \"Taha khan\"\n",
    "print(name)\n",
    "print(name.capitalize())\n",
    "print(name.casefold())\n",
    "name1 : str = \"           TAHA KHAN         \"\n",
    "display(name1.lstrip())\n",
    "display(name1.rstrip())\n",
    "display(name1.strip())"
   ]
  },
  {
   "cell_type": "code",
   "execution_count": 44,
   "metadata": {},
   "outputs": [
    {
     "name": "stdout",
     "output_type": "stream",
     "text": [
      " Taha khan \n"
     ]
    }
   ],
   "source": [
    "import re\n",
    "\n",
    "name : str = \"         Taha     khan       \"\n",
    "\n",
    "name1 : str = re.sub(' {2,100}',' ',name)\n",
    "print(name1)"
   ]
  },
  {
   "cell_type": "code",
   "execution_count": 45,
   "metadata": {},
   "outputs": [
    {
     "name": "stdout",
     "output_type": "stream",
     "text": [
      "Taha khan\n"
     ]
    }
   ],
   "source": [
    "first_name : str = \"Taha\"\n",
    "last_name : str = \"khan\"\n",
    "full_name : str = f\"{first_name} {last_name}\"\n",
    "print(full_name)\n",
    "#\\n => new line\n",
    "#\\t => tab\n",
    "#\\b => backspace"
   ]
  },
  {
   "cell_type": "markdown",
   "metadata": {},
   "source": [
    "# Operators"
   ]
  },
  {
   "cell_type": "markdown",
   "metadata": {},
   "source": [
    "## Python divides the operators in the following groups:\n",
    "\n",
    "* Arithmetic operators\n",
    "* Assignment operators\n",
    "* Comparison operators\n",
    "* Logical operators\n",
    "* Identity operators\n",
    "* Membership operators\n",
    "* Bitwise operators"
   ]
  },
  {
   "cell_type": "code",
   "execution_count": 10,
   "metadata": {},
   "outputs": [
    {
     "name": "stdout",
     "output_type": "stream",
     "text": [
      "Collecting lxml\n",
      "  Downloading lxml-4.9.3-cp312-cp312-win_amd64.whl.metadata (3.9 kB)\n",
      "Downloading lxml-4.9.3-cp312-cp312-win_amd64.whl (3.8 MB)\n",
      "   ---------------------------------------- 0.0/3.8 MB ? eta -:--:--\n",
      "   ---------------------------------------- 0.0/3.8 MB ? eta -:--:--\n",
      "   ---------------------------------------- 0.0/3.8 MB ? eta -:--:--\n",
      "   ---------------------------------------- 0.0/3.8 MB ? eta -:--:--\n",
      "   ---------------------------------------- 0.0/3.8 MB 1.3 MB/s eta 0:00:03\n",
      "   ---------------------------------------- 0.0/3.8 MB 1.3 MB/s eta 0:00:03\n",
      "   ---------------------------------------- 0.0/3.8 MB 1.3 MB/s eta 0:00:03\n",
      "    --------------------------------------- 0.1/3.8 MB 273.8 kB/s eta 0:00:14\n",
      "   - -------------------------------------- 0.1/3.8 MB 437.6 kB/s eta 0:00:09\n",
      "   - -------------------------------------- 0.2/3.8 MB 583.1 kB/s eta 0:00:07\n",
      "   -- ------------------------------------- 0.3/3.8 MB 749.3 kB/s eta 0:00:05\n",
      "   --- ------------------------------------ 0.3/3.8 MB 770.1 kB/s eta 0:00:05\n",
      "   ---- ----------------------------------- 0.4/3.8 MB 897.8 kB/s eta 0:00:04\n",
      "   ---- ----------------------------------- 0.4/3.8 MB 917.0 kB/s eta 0:00:04\n",
      "   ----- ---------------------------------- 0.5/3.8 MB 952.6 kB/s eta 0:00:04\n",
      "   ----- ---------------------------------- 0.6/3.8 MB 983.9 kB/s eta 0:00:04\n",
      "   ------ --------------------------------- 0.7/3.8 MB 1.1 MB/s eta 0:00:03\n",
      "   ------- -------------------------------- 0.7/3.8 MB 1.1 MB/s eta 0:00:03\n",
      "   ------- -------------------------------- 0.7/3.8 MB 1.1 MB/s eta 0:00:03\n",
      "   -------- ------------------------------- 0.8/3.8 MB 1.0 MB/s eta 0:00:03\n",
      "   --------- ------------------------------ 0.8/3.8 MB 1.1 MB/s eta 0:00:03\n",
      "   --------- ------------------------------ 0.9/3.8 MB 1.1 MB/s eta 0:00:03\n",
      "   --------- ------------------------------ 0.9/3.8 MB 1.0 MB/s eta 0:00:03\n",
      "   ---------- ----------------------------- 1.0/3.8 MB 1.1 MB/s eta 0:00:03\n",
      "   ----------- ---------------------------- 1.0/3.8 MB 1.1 MB/s eta 0:00:03\n",
      "   ----------- ---------------------------- 1.1/3.8 MB 1.1 MB/s eta 0:00:03\n",
      "   ----------- ---------------------------- 1.1/3.8 MB 997.4 kB/s eta 0:00:03\n",
      "   ------------ --------------------------- 1.1/3.8 MB 1.0 MB/s eta 0:00:03\n",
      "   ------------ --------------------------- 1.2/3.8 MB 1.0 MB/s eta 0:00:03\n",
      "   ------------- -------------------------- 1.2/3.8 MB 1.0 MB/s eta 0:00:03\n",
      "   -------------- ------------------------- 1.3/3.8 MB 1.0 MB/s eta 0:00:03\n",
      "   -------------- ------------------------- 1.4/3.8 MB 1.0 MB/s eta 0:00:03\n",
      "   -------------- ------------------------- 1.4/3.8 MB 1.0 MB/s eta 0:00:03\n",
      "   -------------- ------------------------- 1.4/3.8 MB 1.0 MB/s eta 0:00:03\n",
      "   --------------- ------------------------ 1.5/3.8 MB 989.8 kB/s eta 0:00:03\n",
      "   --------------- ------------------------ 1.5/3.8 MB 1.0 MB/s eta 0:00:03\n",
      "   ---------------- ----------------------- 1.5/3.8 MB 963.7 kB/s eta 0:00:03\n",
      "   ---------------- ----------------------- 1.5/3.8 MB 966.9 kB/s eta 0:00:03\n",
      "   ---------------- ----------------------- 1.6/3.8 MB 948.5 kB/s eta 0:00:03\n",
      "   ---------------- ----------------------- 1.6/3.8 MB 948.5 kB/s eta 0:00:03\n",
      "   ---------------- ----------------------- 1.6/3.8 MB 948.5 kB/s eta 0:00:03\n",
      "   ---------------- ----------------------- 1.6/3.8 MB 948.5 kB/s eta 0:00:03\n",
      "   ---------------- ----------------------- 1.6/3.8 MB 948.5 kB/s eta 0:00:03\n",
      "   ---------------- ----------------------- 1.6/3.8 MB 948.5 kB/s eta 0:00:03\n",
      "   ---------------- ----------------------- 1.6/3.8 MB 948.5 kB/s eta 0:00:03\n",
      "   ---------------- ----------------------- 1.6/3.8 MB 794.8 kB/s eta 0:00:03\n",
      "   ------------------ --------------------- 1.7/3.8 MB 825.4 kB/s eta 0:00:03\n",
      "   ------------------ --------------------- 1.7/3.8 MB 825.4 kB/s eta 0:00:03\n",
      "   ------------------ --------------------- 1.7/3.8 MB 803.5 kB/s eta 0:00:03\n",
      "   ------------------ --------------------- 1.8/3.8 MB 807.4 kB/s eta 0:00:03\n",
      "   ------------------ --------------------- 1.8/3.8 MB 793.7 kB/s eta 0:00:03\n",
      "   ------------------- -------------------- 1.8/3.8 MB 790.8 kB/s eta 0:00:03\n",
      "   ------------------- -------------------- 1.8/3.8 MB 788.4 kB/s eta 0:00:03\n",
      "   ------------------- -------------------- 1.9/3.8 MB 781.3 kB/s eta 0:00:03\n",
      "   -------------------- ------------------- 1.9/3.8 MB 777.9 kB/s eta 0:00:03\n",
      "   -------------------- ------------------- 1.9/3.8 MB 779.7 kB/s eta 0:00:03\n",
      "   -------------------- ------------------- 1.9/3.8 MB 783.9 kB/s eta 0:00:03\n",
      "   -------------------- ------------------- 2.0/3.8 MB 772.8 kB/s eta 0:00:03\n",
      "   -------------------- ------------------- 2.0/3.8 MB 767.4 kB/s eta 0:00:03\n",
      "   --------------------- ------------------ 2.0/3.8 MB 765.8 kB/s eta 0:00:03\n",
      "   --------------------- ------------------ 2.0/3.8 MB 765.8 kB/s eta 0:00:03\n",
      "   --------------------- ------------------ 2.0/3.8 MB 765.8 kB/s eta 0:00:03\n",
      "   --------------------- ------------------ 2.0/3.8 MB 765.8 kB/s eta 0:00:03\n",
      "   --------------------- ------------------ 2.0/3.8 MB 765.8 kB/s eta 0:00:03\n",
      "   --------------------- ------------------ 2.0/3.8 MB 765.8 kB/s eta 0:00:03\n",
      "   --------------------- ------------------ 2.0/3.8 MB 765.8 kB/s eta 0:00:03\n",
      "   ---------------------- ----------------- 2.1/3.8 MB 700.1 kB/s eta 0:00:03\n",
      "   ---------------------- ----------------- 2.1/3.8 MB 699.7 kB/s eta 0:00:03\n",
      "   ---------------------- ----------------- 2.1/3.8 MB 695.6 kB/s eta 0:00:03\n",
      "   ----------------------- ---------------- 2.2/3.8 MB 695.0 kB/s eta 0:00:03\n",
      "   ----------------------- ---------------- 2.2/3.8 MB 700.9 kB/s eta 0:00:03\n",
      "   ----------------------- ---------------- 2.2/3.8 MB 694.0 kB/s eta 0:00:03\n",
      "   ----------------------- ---------------- 2.2/3.8 MB 694.0 kB/s eta 0:00:03\n",
      "   ------------------------ --------------- 2.3/3.8 MB 689.5 kB/s eta 0:00:03\n",
      "   ------------------------ --------------- 2.3/3.8 MB 685.9 kB/s eta 0:00:03\n",
      "   ------------------------ --------------- 2.3/3.8 MB 685.9 kB/s eta 0:00:03\n",
      "   ------------------------ --------------- 2.3/3.8 MB 670.2 kB/s eta 0:00:03\n",
      "   ------------------------ --------------- 2.3/3.8 MB 667.2 kB/s eta 0:00:03\n",
      "   ------------------------ --------------- 2.3/3.8 MB 661.2 kB/s eta 0:00:03\n",
      "   ------------------------- -------------- 2.4/3.8 MB 658.2 kB/s eta 0:00:03\n",
      "   ------------------------- -------------- 2.4/3.8 MB 655.3 kB/s eta 0:00:03\n",
      "   ------------------------- -------------- 2.4/3.8 MB 655.3 kB/s eta 0:00:03\n",
      "   ------------------------- -------------- 2.4/3.8 MB 655.3 kB/s eta 0:00:03\n",
      "   ------------------------- -------------- 2.4/3.8 MB 655.3 kB/s eta 0:00:03\n",
      "   ------------------------- -------------- 2.4/3.8 MB 655.3 kB/s eta 0:00:03\n",
      "   ------------------------- -------------- 2.4/3.8 MB 655.3 kB/s eta 0:00:03\n",
      "   ------------------------- -------------- 2.4/3.8 MB 655.3 kB/s eta 0:00:03\n",
      "   ------------------------- -------------- 2.4/3.8 MB 611.7 kB/s eta 0:00:03\n",
      "   -------------------------- ------------- 2.5/3.8 MB 607.1 kB/s eta 0:00:03\n",
      "   -------------------------- ------------- 2.5/3.8 MB 607.1 kB/s eta 0:00:03\n",
      "   -------------------------- ------------- 2.5/3.8 MB 600.6 kB/s eta 0:00:03\n",
      "   -------------------------- ------------- 2.5/3.8 MB 596.7 kB/s eta 0:00:03\n",
      "   -------------------------- ------------- 2.5/3.8 MB 599.3 kB/s eta 0:00:03\n",
      "   -------------------------- ------------- 2.5/3.8 MB 599.3 kB/s eta 0:00:03\n",
      "   -------------------------- ------------- 2.5/3.8 MB 599.3 kB/s eta 0:00:03\n",
      "   -------------------------- ------------- 2.5/3.8 MB 599.3 kB/s eta 0:00:03\n",
      "   -------------------------- ------------- 2.5/3.8 MB 599.3 kB/s eta 0:00:03\n",
      "   -------------------------- ------------- 2.5/3.8 MB 599.3 kB/s eta 0:00:03\n",
      "   --------------------------- ------------ 2.6/3.8 MB 562.7 kB/s eta 0:00:03\n",
      "   --------------------------- ------------ 2.6/3.8 MB 565.3 kB/s eta 0:00:03\n",
      "   --------------------------- ------------ 2.6/3.8 MB 565.3 kB/s eta 0:00:03\n",
      "   --------------------------- ------------ 2.6/3.8 MB 565.3 kB/s eta 0:00:03\n",
      "   --------------------------- ------------ 2.6/3.8 MB 565.3 kB/s eta 0:00:03\n",
      "   --------------------------- ------------ 2.6/3.8 MB 565.3 kB/s eta 0:00:03\n",
      "   --------------------------- ------------ 2.6/3.8 MB 565.3 kB/s eta 0:00:03\n",
      "   --------------------------- ------------ 2.6/3.8 MB 536.3 kB/s eta 0:00:03\n",
      "   --------------------------- ------------ 2.6/3.8 MB 533.5 kB/s eta 0:00:03\n",
      "   --------------------------- ------------ 2.6/3.8 MB 533.5 kB/s eta 0:00:03\n",
      "   --------------------------- ------------ 2.6/3.8 MB 533.5 kB/s eta 0:00:03\n",
      "   --------------------------- ------------ 2.6/3.8 MB 533.5 kB/s eta 0:00:03\n",
      "   --------------------------- ------------ 2.6/3.8 MB 520.6 kB/s eta 0:00:03\n",
      "   --------------------------- ------------ 2.6/3.8 MB 520.6 kB/s eta 0:00:03\n",
      "   ---------------------------- ----------- 2.6/3.8 MB 515.1 kB/s eta 0:00:03\n",
      "   ---------------------------- ----------- 2.7/3.8 MB 512.8 kB/s eta 0:00:03\n",
      "   ---------------------------- ----------- 2.7/3.8 MB 510.1 kB/s eta 0:00:03\n",
      "   ---------------------------- ----------- 2.7/3.8 MB 509.5 kB/s eta 0:00:03\n",
      "   ---------------------------- ----------- 2.7/3.8 MB 507.0 kB/s eta 0:00:03\n",
      "   ---------------------------- ----------- 2.7/3.8 MB 507.0 kB/s eta 0:00:03\n",
      "   ---------------------------- ----------- 2.7/3.8 MB 507.0 kB/s eta 0:00:03\n",
      "   ---------------------------- ----------- 2.7/3.8 MB 507.0 kB/s eta 0:00:03\n",
      "   ---------------------------- ----------- 2.7/3.8 MB 507.0 kB/s eta 0:00:03\n",
      "   ---------------------------- ----------- 2.7/3.8 MB 507.0 kB/s eta 0:00:03\n",
      "   ---------------------------- ----------- 2.7/3.8 MB 507.0 kB/s eta 0:00:03\n",
      "   ---------------------------- ----------- 2.7/3.8 MB 507.0 kB/s eta 0:00:03\n",
      "   ----------------------------- ---------- 2.7/3.8 MB 479.4 kB/s eta 0:00:03\n",
      "   ----------------------------- ---------- 2.7/3.8 MB 479.4 kB/s eta 0:00:03\n",
      "   ----------------------------- ---------- 2.8/3.8 MB 470.9 kB/s eta 0:00:03\n",
      "   ----------------------------- ---------- 2.8/3.8 MB 470.9 kB/s eta 0:00:03\n",
      "   ----------------------------- ---------- 2.8/3.8 MB 470.9 kB/s eta 0:00:03\n",
      "   ----------------------------- ---------- 2.8/3.8 MB 470.9 kB/s eta 0:00:03\n",
      "   ----------------------------- ---------- 2.8/3.8 MB 459.6 kB/s eta 0:00:03\n",
      "   ----------------------------- ---------- 2.8/3.8 MB 459.6 kB/s eta 0:00:03\n",
      "   ----------------------------- ---------- 2.8/3.8 MB 454.3 kB/s eta 0:00:03\n",
      "   ----------------------------- ---------- 2.8/3.8 MB 454.3 kB/s eta 0:00:03\n",
      "   ----------------------------- ---------- 2.8/3.8 MB 452.8 kB/s eta 0:00:03\n",
      "   ------------------------------ --------- 2.9/3.8 MB 453.2 kB/s eta 0:00:03\n",
      "   ------------------------------ --------- 2.9/3.8 MB 452.6 kB/s eta 0:00:03\n",
      "   ------------------------------ --------- 2.9/3.8 MB 455.7 kB/s eta 0:00:02\n",
      "   ------------------------------ --------- 2.9/3.8 MB 455.0 kB/s eta 0:00:02\n",
      "   ------------------------------- -------- 2.9/3.8 MB 456.6 kB/s eta 0:00:02\n",
      "   ------------------------------- -------- 3.0/3.8 MB 458.0 kB/s eta 0:00:02\n",
      "   ------------------------------- -------- 3.0/3.8 MB 458.3 kB/s eta 0:00:02\n",
      "   -------------------------------- ------- 3.0/3.8 MB 458.1 kB/s eta 0:00:02\n",
      "   -------------------------------- ------- 3.1/3.8 MB 459.1 kB/s eta 0:00:02\n",
      "   -------------------------------- ------- 3.1/3.8 MB 457.4 kB/s eta 0:00:02\n",
      "   -------------------------------- ------- 3.1/3.8 MB 456.6 kB/s eta 0:00:02\n",
      "   --------------------------------- ------ 3.1/3.8 MB 457.6 kB/s eta 0:00:02\n",
      "   --------------------------------- ------ 3.1/3.8 MB 458.5 kB/s eta 0:00:02\n",
      "   --------------------------------- ------ 3.1/3.8 MB 458.5 kB/s eta 0:00:02\n",
      "   --------------------------------- ------ 3.1/3.8 MB 458.5 kB/s eta 0:00:02\n",
      "   --------------------------------- ------ 3.1/3.8 MB 458.5 kB/s eta 0:00:02\n",
      "   --------------------------------- ------ 3.1/3.8 MB 458.5 kB/s eta 0:00:02\n",
      "   --------------------------------- ------ 3.1/3.8 MB 458.5 kB/s eta 0:00:02\n",
      "   --------------------------------- ------ 3.1/3.8 MB 439.8 kB/s eta 0:00:02\n",
      "   --------------------------------- ------ 3.2/3.8 MB 440.7 kB/s eta 0:00:02\n",
      "   --------------------------------- ------ 3.2/3.8 MB 440.7 kB/s eta 0:00:02\n",
      "   --------------------------------- ------ 3.2/3.8 MB 435.5 kB/s eta 0:00:02\n",
      "   --------------------------------- ------ 3.2/3.8 MB 435.5 kB/s eta 0:00:02\n",
      "   --------------------------------- ------ 3.2/3.8 MB 435.5 kB/s eta 0:00:02\n",
      "   --------------------------------- ------ 3.2/3.8 MB 432.3 kB/s eta 0:00:02\n",
      "   ---------------------------------- ----- 3.2/3.8 MB 431.4 kB/s eta 0:00:02\n",
      "   ---------------------------------- ----- 3.2/3.8 MB 431.4 kB/s eta 0:00:02\n",
      "   ---------------------------------- ----- 3.2/3.8 MB 431.4 kB/s eta 0:00:02\n",
      "   ---------------------------------- ----- 3.2/3.8 MB 431.4 kB/s eta 0:00:02\n",
      "   ---------------------------------- ----- 3.2/3.8 MB 431.4 kB/s eta 0:00:02\n",
      "   ---------------------------------- ----- 3.2/3.8 MB 431.4 kB/s eta 0:00:02\n",
      "   ---------------------------------- ----- 3.2/3.8 MB 431.4 kB/s eta 0:00:02\n",
      "   ---------------------------------- ----- 3.2/3.8 MB 431.4 kB/s eta 0:00:02\n",
      "   ---------------------------------- ----- 3.2/3.8 MB 431.4 kB/s eta 0:00:02\n",
      "   ---------------------------------- ----- 3.2/3.8 MB 431.4 kB/s eta 0:00:02\n",
      "   ---------------------------------- ----- 3.2/3.8 MB 431.4 kB/s eta 0:00:02\n",
      "   ---------------------------------- ----- 3.2/3.8 MB 431.4 kB/s eta 0:00:02\n",
      "   ---------------------------------- ----- 3.2/3.8 MB 431.4 kB/s eta 0:00:02\n",
      "   ---------------------------------- ----- 3.2/3.8 MB 431.4 kB/s eta 0:00:02\n",
      "   ---------------------------------- ----- 3.2/3.8 MB 397.8 kB/s eta 0:00:02\n",
      "   ---------------------------------- ----- 3.3/3.8 MB 396.5 kB/s eta 0:00:02\n",
      "   ---------------------------------- ----- 3.3/3.8 MB 396.5 kB/s eta 0:00:02\n",
      "   ---------------------------------- ----- 3.3/3.8 MB 396.5 kB/s eta 0:00:02\n",
      "   ---------------------------------- ----- 3.3/3.8 MB 396.5 kB/s eta 0:00:02\n",
      "   ---------------------------------- ----- 3.3/3.8 MB 396.5 kB/s eta 0:00:02\n",
      "   ---------------------------------- ----- 3.3/3.8 MB 396.5 kB/s eta 0:00:02\n",
      "   ---------------------------------- ----- 3.3/3.8 MB 383.8 kB/s eta 0:00:02\n",
      "   ---------------------------------- ----- 3.3/3.8 MB 383.8 kB/s eta 0:00:02\n",
      "   ---------------------------------- ----- 3.3/3.8 MB 383.8 kB/s eta 0:00:02\n",
      "   ---------------------------------- ----- 3.3/3.8 MB 383.8 kB/s eta 0:00:02\n",
      "   ---------------------------------- ----- 3.3/3.8 MB 377.9 kB/s eta 0:00:02\n",
      "   ---------------------------------- ----- 3.3/3.8 MB 377.9 kB/s eta 0:00:02\n",
      "   ---------------------------------- ----- 3.3/3.8 MB 377.9 kB/s eta 0:00:02\n",
      "   ---------------------------------- ----- 3.3/3.8 MB 377.9 kB/s eta 0:00:02\n",
      "   ----------------------------------- ---- 3.3/3.8 MB 373.5 kB/s eta 0:00:02\n",
      "   ----------------------------------- ---- 3.3/3.8 MB 373.5 kB/s eta 0:00:02\n",
      "   ----------------------------------- ---- 3.3/3.8 MB 370.7 kB/s eta 0:00:02\n",
      "   ----------------------------------- ---- 3.3/3.8 MB 369.8 kB/s eta 0:00:02\n",
      "   ----------------------------------- ---- 3.3/3.8 MB 369.8 kB/s eta 0:00:02\n",
      "   ----------------------------------- ---- 3.3/3.8 MB 369.8 kB/s eta 0:00:02\n",
      "   ----------------------------------- ---- 3.3/3.8 MB 369.8 kB/s eta 0:00:02\n",
      "   ----------------------------------- ---- 3.3/3.8 MB 369.8 kB/s eta 0:00:02\n",
      "   ----------------------------------- ---- 3.3/3.8 MB 360.9 kB/s eta 0:00:02\n",
      "   ----------------------------------- ---- 3.4/3.8 MB 361.3 kB/s eta 0:00:02\n",
      "   ----------------------------------- ---- 3.4/3.8 MB 361.3 kB/s eta 0:00:02\n",
      "   ----------------------------------- ---- 3.4/3.8 MB 361.3 kB/s eta 0:00:02\n",
      "   ----------------------------------- ---- 3.4/3.8 MB 361.3 kB/s eta 0:00:02\n",
      "   ----------------------------------- ---- 3.4/3.8 MB 361.3 kB/s eta 0:00:02\n",
      "   ----------------------------------- ---- 3.4/3.8 MB 354.0 kB/s eta 0:00:02\n",
      "   ----------------------------------- ---- 3.4/3.8 MB 354.0 kB/s eta 0:00:02\n",
      "   ----------------------------------- ---- 3.4/3.8 MB 354.0 kB/s eta 0:00:02\n",
      "   ----------------------------------- ---- 3.4/3.8 MB 354.0 kB/s eta 0:00:02\n",
      "   ----------------------------------- ---- 3.4/3.8 MB 354.0 kB/s eta 0:00:02\n",
      "   ----------------------------------- ---- 3.4/3.8 MB 354.0 kB/s eta 0:00:02\n",
      "   ----------------------------------- ---- 3.4/3.8 MB 354.0 kB/s eta 0:00:02\n",
      "   ----------------------------------- ---- 3.4/3.8 MB 354.0 kB/s eta 0:00:02\n",
      "   ------------------------------------ --- 3.4/3.8 MB 340.5 kB/s eta 0:00:02\n",
      "   ------------------------------------ --- 3.4/3.8 MB 340.5 kB/s eta 0:00:02\n",
      "   ------------------------------------ --- 3.4/3.8 MB 340.5 kB/s eta 0:00:02\n",
      "   ------------------------------------ --- 3.4/3.8 MB 340.5 kB/s eta 0:00:02\n",
      "   ------------------------------------ --- 3.4/3.8 MB 335.8 kB/s eta 0:00:02\n",
      "   ------------------------------------ --- 3.4/3.8 MB 335.8 kB/s eta 0:00:02\n",
      "   ------------------------------------ --- 3.4/3.8 MB 335.8 kB/s eta 0:00:02\n",
      "   ------------------------------------ --- 3.4/3.8 MB 332.2 kB/s eta 0:00:02\n",
      "   ------------------------------------ --- 3.4/3.8 MB 332.2 kB/s eta 0:00:02\n",
      "   ------------------------------------ --- 3.5/3.8 MB 331.6 kB/s eta 0:00:01\n",
      "   ------------------------------------ --- 3.5/3.8 MB 331.6 kB/s eta 0:00:01\n",
      "   ------------------------------------ --- 3.5/3.8 MB 331.6 kB/s eta 0:00:01\n",
      "   ------------------------------------- -- 3.5/3.8 MB 332.6 kB/s eta 0:00:01\n",
      "   ------------------------------------- -- 3.5/3.8 MB 332.5 kB/s eta 0:00:01\n",
      "   ------------------------------------- -- 3.6/3.8 MB 334.4 kB/s eta 0:00:01\n",
      "   ------------------------------------- -- 3.6/3.8 MB 333.9 kB/s eta 0:00:01\n",
      "   ------------------------------------- -- 3.6/3.8 MB 334.9 kB/s eta 0:00:01\n",
      "   -------------------------------------- - 3.6/3.8 MB 335.3 kB/s eta 0:00:01\n",
      "   -------------------------------------- - 3.6/3.8 MB 335.7 kB/s eta 0:00:01\n",
      "   ---------------------------------------  3.7/3.8 MB 337.5 kB/s eta 0:00:01\n",
      "   ---------------------------------------  3.7/3.8 MB 338.9 kB/s eta 0:00:01\n",
      "   ---------------------------------------  3.7/3.8 MB 340.7 kB/s eta 0:00:01\n",
      "   ---------------------------------------- 3.8/3.8 MB 341.1 kB/s eta 0:00:00\n",
      "Installing collected packages: lxml\n",
      "Successfully installed lxml-4.9.3\n"
     ]
    }
   ],
   "source": [
    "# !pip install lxml"
   ]
  },
  {
   "cell_type": "code",
   "execution_count": 11,
   "metadata": {},
   "outputs": [
    {
     "data": {
      "text/html": [
       "<div>\n",
       "<style scoped>\n",
       "    .dataframe tbody tr th:only-of-type {\n",
       "        vertical-align: middle;\n",
       "    }\n",
       "\n",
       "    .dataframe tbody tr th {\n",
       "        vertical-align: top;\n",
       "    }\n",
       "\n",
       "    .dataframe thead th {\n",
       "        text-align: right;\n",
       "    }\n",
       "</style>\n",
       "<table border=\"1\" class=\"dataframe\">\n",
       "  <thead>\n",
       "    <tr style=\"text-align: right;\">\n",
       "      <th></th>\n",
       "      <th>Operator</th>\n",
       "      <th>Name</th>\n",
       "      <th>Example</th>\n",
       "      <th>Try it</th>\n",
       "    </tr>\n",
       "  </thead>\n",
       "  <tbody>\n",
       "    <tr>\n",
       "      <th>0</th>\n",
       "      <td>+</td>\n",
       "      <td>Addition</td>\n",
       "      <td>x + y</td>\n",
       "      <td>Try it »</td>\n",
       "    </tr>\n",
       "    <tr>\n",
       "      <th>1</th>\n",
       "      <td>-</td>\n",
       "      <td>Subtraction</td>\n",
       "      <td>x - y</td>\n",
       "      <td>Try it »</td>\n",
       "    </tr>\n",
       "    <tr>\n",
       "      <th>2</th>\n",
       "      <td>*</td>\n",
       "      <td>Multiplication</td>\n",
       "      <td>x * y</td>\n",
       "      <td>Try it »</td>\n",
       "    </tr>\n",
       "    <tr>\n",
       "      <th>3</th>\n",
       "      <td>/</td>\n",
       "      <td>Division</td>\n",
       "      <td>x / y</td>\n",
       "      <td>Try it »</td>\n",
       "    </tr>\n",
       "    <tr>\n",
       "      <th>4</th>\n",
       "      <td>%</td>\n",
       "      <td>Modulus</td>\n",
       "      <td>x % y</td>\n",
       "      <td>Try it »</td>\n",
       "    </tr>\n",
       "    <tr>\n",
       "      <th>5</th>\n",
       "      <td>**</td>\n",
       "      <td>Exponentiation</td>\n",
       "      <td>x ** y</td>\n",
       "      <td>Try it »</td>\n",
       "    </tr>\n",
       "    <tr>\n",
       "      <th>6</th>\n",
       "      <td>//</td>\n",
       "      <td>Floor division</td>\n",
       "      <td>x // y</td>\n",
       "      <td>Try it »</td>\n",
       "    </tr>\n",
       "  </tbody>\n",
       "</table>\n",
       "</div>"
      ],
      "text/plain": [
       "  Operator            Name Example    Try it\n",
       "0        +        Addition   x + y  Try it »\n",
       "1        -     Subtraction   x - y  Try it »\n",
       "2        *  Multiplication   x * y  Try it »\n",
       "3        /        Division   x / y  Try it »\n",
       "4        %         Modulus   x % y  Try it »\n",
       "5       **  Exponentiation  x ** y  Try it »\n",
       "6       //  Floor division  x // y  Try it »"
      ]
     },
     "execution_count": 11,
     "metadata": {},
     "output_type": "execute_result"
    }
   ],
   "source": [
    "import pandas as pd\n",
    "\n",
    "df = pd.read_html(\"https://www.w3schools.com/python/python_operators.asp\")\n",
    "df[0]"
   ]
  },
  {
   "cell_type": "code",
   "execution_count": 2,
   "metadata": {},
   "outputs": [
    {
     "name": "stdout",
     "output_type": "stream",
     "text": [
      "15\n",
      "5\n",
      "50\n",
      "2.0\n",
      "2\n",
      "0\n",
      "100000\n"
     ]
    }
   ],
   "source": [
    "a : int = 10\n",
    "b : int = 5\n",
    "\n",
    "print(a + b) # addition\n",
    "print(a - b) # subtraction\n",
    "print(a * b) # multiplication\n",
    "print(a / b) # division\n",
    "print(a // b) # floor division\n",
    "print(a % b) # modulus\n",
    "print(a ** b) # power\n"
   ]
  },
  {
   "cell_type": "markdown",
   "metadata": {},
   "source": [
    "# Assignment Operators\n"
   ]
  },
  {
   "cell_type": "code",
   "execution_count": 3,
   "metadata": {},
   "outputs": [
    {
     "data": {
      "text/html": [
       "<div>\n",
       "<style scoped>\n",
       "    .dataframe tbody tr th:only-of-type {\n",
       "        vertical-align: middle;\n",
       "    }\n",
       "\n",
       "    .dataframe tbody tr th {\n",
       "        vertical-align: top;\n",
       "    }\n",
       "\n",
       "    .dataframe thead th {\n",
       "        text-align: right;\n",
       "    }\n",
       "</style>\n",
       "<table border=\"1\" class=\"dataframe\">\n",
       "  <thead>\n",
       "    <tr style=\"text-align: right;\">\n",
       "      <th></th>\n",
       "      <th>Operator</th>\n",
       "      <th>Example</th>\n",
       "      <th>Same As</th>\n",
       "      <th>Try it</th>\n",
       "    </tr>\n",
       "  </thead>\n",
       "  <tbody>\n",
       "    <tr>\n",
       "      <th>0</th>\n",
       "      <td>=</td>\n",
       "      <td>x = 5</td>\n",
       "      <td>x = 5</td>\n",
       "      <td>Try it »</td>\n",
       "    </tr>\n",
       "    <tr>\n",
       "      <th>1</th>\n",
       "      <td>+=</td>\n",
       "      <td>x += 3</td>\n",
       "      <td>x = x + 3</td>\n",
       "      <td>Try it »</td>\n",
       "    </tr>\n",
       "    <tr>\n",
       "      <th>2</th>\n",
       "      <td>-=</td>\n",
       "      <td>x -= 3</td>\n",
       "      <td>x = x - 3</td>\n",
       "      <td>Try it »</td>\n",
       "    </tr>\n",
       "    <tr>\n",
       "      <th>3</th>\n",
       "      <td>*=</td>\n",
       "      <td>x *= 3</td>\n",
       "      <td>x = x * 3</td>\n",
       "      <td>Try it »</td>\n",
       "    </tr>\n",
       "    <tr>\n",
       "      <th>4</th>\n",
       "      <td>/=</td>\n",
       "      <td>x /= 3</td>\n",
       "      <td>x = x / 3</td>\n",
       "      <td>Try it »</td>\n",
       "    </tr>\n",
       "    <tr>\n",
       "      <th>5</th>\n",
       "      <td>%=</td>\n",
       "      <td>x %= 3</td>\n",
       "      <td>x = x % 3</td>\n",
       "      <td>Try it »</td>\n",
       "    </tr>\n",
       "    <tr>\n",
       "      <th>6</th>\n",
       "      <td>//=</td>\n",
       "      <td>x //= 3</td>\n",
       "      <td>x = x // 3</td>\n",
       "      <td>Try it »</td>\n",
       "    </tr>\n",
       "    <tr>\n",
       "      <th>7</th>\n",
       "      <td>**=</td>\n",
       "      <td>x **= 3</td>\n",
       "      <td>x = x ** 3</td>\n",
       "      <td>Try it »</td>\n",
       "    </tr>\n",
       "    <tr>\n",
       "      <th>8</th>\n",
       "      <td>&amp;=</td>\n",
       "      <td>x &amp;= 3</td>\n",
       "      <td>x = x &amp; 3</td>\n",
       "      <td>Try it »</td>\n",
       "    </tr>\n",
       "    <tr>\n",
       "      <th>9</th>\n",
       "      <td>|=</td>\n",
       "      <td>x |= 3</td>\n",
       "      <td>x = x | 3</td>\n",
       "      <td>Try it »</td>\n",
       "    </tr>\n",
       "    <tr>\n",
       "      <th>10</th>\n",
       "      <td>^=</td>\n",
       "      <td>x ^= 3</td>\n",
       "      <td>x = x ^ 3</td>\n",
       "      <td>Try it »</td>\n",
       "    </tr>\n",
       "    <tr>\n",
       "      <th>11</th>\n",
       "      <td>&gt;&gt;=</td>\n",
       "      <td>x &gt;&gt;= 3</td>\n",
       "      <td>x = x &gt;&gt; 3</td>\n",
       "      <td>Try it »</td>\n",
       "    </tr>\n",
       "    <tr>\n",
       "      <th>12</th>\n",
       "      <td>&lt;&lt;=</td>\n",
       "      <td>x &lt;&lt;= 3</td>\n",
       "      <td>x = x &lt;&lt; 3</td>\n",
       "      <td>Try it »</td>\n",
       "    </tr>\n",
       "  </tbody>\n",
       "</table>\n",
       "</div>"
      ],
      "text/plain": [
       "   Operator  Example     Same As    Try it\n",
       "0         =    x = 5       x = 5  Try it »\n",
       "1        +=   x += 3   x = x + 3  Try it »\n",
       "2        -=   x -= 3   x = x - 3  Try it »\n",
       "3        *=   x *= 3   x = x * 3  Try it »\n",
       "4        /=   x /= 3   x = x / 3  Try it »\n",
       "5        %=   x %= 3   x = x % 3  Try it »\n",
       "6       //=  x //= 3  x = x // 3  Try it »\n",
       "7       **=  x **= 3  x = x ** 3  Try it »\n",
       "8        &=   x &= 3   x = x & 3  Try it »\n",
       "9        |=   x |= 3   x = x | 3  Try it »\n",
       "10       ^=   x ^= 3   x = x ^ 3  Try it »\n",
       "11      >>=  x >>= 3  x = x >> 3  Try it »\n",
       "12      <<=  x <<= 3  x = x << 3  Try it »"
      ]
     },
     "execution_count": 3,
     "metadata": {},
     "output_type": "execute_result"
    }
   ],
   "source": [
    "# Assignment Operators\n",
    "df[1]"
   ]
  },
  {
   "cell_type": "code",
   "execution_count": 1,
   "metadata": {},
   "outputs": [
    {
     "name": "stdout",
     "output_type": "stream",
     "text": [
      "15\n"
     ]
    }
   ],
   "source": [
    "a : int = 10\n",
    "a += 5\n",
    "print(a)"
   ]
  },
  {
   "cell_type": "markdown",
   "metadata": {},
   "source": [
    "# Comparision Operator"
   ]
  },
  {
   "cell_type": "code",
   "execution_count": 12,
   "metadata": {},
   "outputs": [
    {
     "data": {
      "text/html": [
       "<div>\n",
       "<style scoped>\n",
       "    .dataframe tbody tr th:only-of-type {\n",
       "        vertical-align: middle;\n",
       "    }\n",
       "\n",
       "    .dataframe tbody tr th {\n",
       "        vertical-align: top;\n",
       "    }\n",
       "\n",
       "    .dataframe thead th {\n",
       "        text-align: right;\n",
       "    }\n",
       "</style>\n",
       "<table border=\"1\" class=\"dataframe\">\n",
       "  <thead>\n",
       "    <tr style=\"text-align: right;\">\n",
       "      <th></th>\n",
       "      <th>Operator</th>\n",
       "      <th>Name</th>\n",
       "      <th>Example</th>\n",
       "      <th>Try it</th>\n",
       "    </tr>\n",
       "  </thead>\n",
       "  <tbody>\n",
       "    <tr>\n",
       "      <th>0</th>\n",
       "      <td>==</td>\n",
       "      <td>Equal</td>\n",
       "      <td>x == y</td>\n",
       "      <td>Try it »</td>\n",
       "    </tr>\n",
       "    <tr>\n",
       "      <th>1</th>\n",
       "      <td>!=</td>\n",
       "      <td>Not equal</td>\n",
       "      <td>x != y</td>\n",
       "      <td>Try it »</td>\n",
       "    </tr>\n",
       "    <tr>\n",
       "      <th>2</th>\n",
       "      <td>&gt;</td>\n",
       "      <td>Greater than</td>\n",
       "      <td>x &gt; y</td>\n",
       "      <td>Try it »</td>\n",
       "    </tr>\n",
       "    <tr>\n",
       "      <th>3</th>\n",
       "      <td>&lt;</td>\n",
       "      <td>Less than</td>\n",
       "      <td>x &lt; y</td>\n",
       "      <td>Try it »</td>\n",
       "    </tr>\n",
       "    <tr>\n",
       "      <th>4</th>\n",
       "      <td>&gt;=</td>\n",
       "      <td>Greater than or equal to</td>\n",
       "      <td>x &gt;= y</td>\n",
       "      <td>Try it »</td>\n",
       "    </tr>\n",
       "    <tr>\n",
       "      <th>5</th>\n",
       "      <td>&lt;=</td>\n",
       "      <td>Less than or equal to</td>\n",
       "      <td>x &lt;= y</td>\n",
       "      <td>Try it »</td>\n",
       "    </tr>\n",
       "  </tbody>\n",
       "</table>\n",
       "</div>"
      ],
      "text/plain": [
       "  Operator                      Name Example    Try it\n",
       "0       ==                     Equal  x == y  Try it »\n",
       "1       !=                 Not equal  x != y  Try it »\n",
       "2        >              Greater than   x > y  Try it »\n",
       "3        <                 Less than   x < y  Try it »\n",
       "4       >=  Greater than or equal to  x >= y  Try it »\n",
       "5       <=     Less than or equal to  x <= y  Try it »"
      ]
     },
     "execution_count": 12,
     "metadata": {},
     "output_type": "execute_result"
    }
   ],
   "source": [
    "\n",
    "df[2]"
   ]
  },
  {
   "cell_type": "code",
   "execution_count": 1,
   "metadata": {},
   "outputs": [
    {
     "name": "stdout",
     "output_type": "stream",
     "text": [
      "False\n",
      "True\n"
     ]
    }
   ],
   "source": [
    "a : int = 10\n",
    "b : int = 5\n",
    "\n",
    "print(a == b) # equal\n",
    "print(a > b) # greater"
   ]
  },
  {
   "cell_type": "markdown",
   "metadata": {},
   "source": [
    "ASCII CODE\n",
    "```\n",
    "A = 65\n",
    "Z = 90\n",
    "\n",
    "a = 97\n",
    "z = 122\n",
    "\n",
    "0 = 48\n",
    "9 = 57\n",
    "```"
   ]
  },
  {
   "cell_type": "code",
   "execution_count": 4,
   "metadata": {},
   "outputs": [
    {
     "data": {
      "text/plain": [
       "'A'"
      ]
     },
     "execution_count": 4,
     "metadata": {},
     "output_type": "execute_result"
    }
   ],
   "source": [
    "chr(65)\n"
   ]
  },
  {
   "cell_type": "code",
   "execution_count": 5,
   "metadata": {},
   "outputs": [
    {
     "data": {
      "text/plain": [
       "65"
      ]
     },
     "execution_count": 5,
     "metadata": {},
     "output_type": "execute_result"
    }
   ],
   "source": [
    "ord('A')"
   ]
  },
  {
   "cell_type": "code",
   "execution_count": 6,
   "metadata": {},
   "outputs": [
    {
     "name": "stdout",
     "output_type": "stream",
     "text": [
      "False\n"
     ]
    }
   ],
   "source": [
    "a : str = 'A'\n",
    "b : str = 'a'\n",
    "\n",
    "print(a > b)"
   ]
  },
  {
   "cell_type": "markdown",
   "metadata": {},
   "source": [
    "## Python Logical Operator"
   ]
  },
  {
   "cell_type": "code",
   "execution_count": 13,
   "metadata": {},
   "outputs": [
    {
     "data": {
      "text/html": [
       "<div>\n",
       "<style scoped>\n",
       "    .dataframe tbody tr th:only-of-type {\n",
       "        vertical-align: middle;\n",
       "    }\n",
       "\n",
       "    .dataframe tbody tr th {\n",
       "        vertical-align: top;\n",
       "    }\n",
       "\n",
       "    .dataframe thead th {\n",
       "        text-align: right;\n",
       "    }\n",
       "</style>\n",
       "<table border=\"1\" class=\"dataframe\">\n",
       "  <thead>\n",
       "    <tr style=\"text-align: right;\">\n",
       "      <th></th>\n",
       "      <th>Operator</th>\n",
       "      <th>Description</th>\n",
       "      <th>Example</th>\n",
       "      <th>Try it</th>\n",
       "    </tr>\n",
       "  </thead>\n",
       "  <tbody>\n",
       "    <tr>\n",
       "      <th>0</th>\n",
       "      <td>and</td>\n",
       "      <td>Returns True if both statements are true</td>\n",
       "      <td>x &lt; 5 and x &lt; 10</td>\n",
       "      <td>Try it »</td>\n",
       "    </tr>\n",
       "    <tr>\n",
       "      <th>1</th>\n",
       "      <td>or</td>\n",
       "      <td>Returns True if one of the statements is true</td>\n",
       "      <td>x &lt; 5 or x &lt; 4</td>\n",
       "      <td>Try it »</td>\n",
       "    </tr>\n",
       "    <tr>\n",
       "      <th>2</th>\n",
       "      <td>not</td>\n",
       "      <td>Reverse the result, returns False if the resul...</td>\n",
       "      <td>not(x &lt; 5 and x &lt; 10)</td>\n",
       "      <td>Try it »</td>\n",
       "    </tr>\n",
       "  </tbody>\n",
       "</table>\n",
       "</div>"
      ],
      "text/plain": [
       "  Operator                                        Description  \\\n",
       "0      and           Returns True if both statements are true   \n",
       "1       or      Returns True if one of the statements is true   \n",
       "2      not  Reverse the result, returns False if the resul...   \n",
       "\n",
       "                 Example    Try it  \n",
       "0       x < 5 and x < 10  Try it »  \n",
       "1         x < 5 or x < 4  Try it »  \n",
       "2  not(x < 5 and x < 10)  Try it »  "
      ]
     },
     "execution_count": 13,
     "metadata": {},
     "output_type": "execute_result"
    }
   ],
   "source": [
    "df[3]"
   ]
  },
  {
   "cell_type": "code",
   "execution_count": 16,
   "metadata": {},
   "outputs": [
    {
     "name": "stdout",
     "output_type": "stream",
     "text": [
      "True\n",
      "False\n",
      "True\n"
     ]
    }
   ],
   "source": [
    "# and lazmi\n",
    "# or optional\n",
    "\n",
    "print(True and True)\n",
    "print(True and False)\n",
    "\n",
    "print(True or False)"
   ]
  },
  {
   "cell_type": "code",
   "execution_count": 17,
   "metadata": {},
   "outputs": [
    {
     "data": {
      "text/plain": [
       "False"
      ]
     },
     "execution_count": 17,
     "metadata": {},
     "output_type": "execute_result"
    }
   ],
   "source": [
    "not True"
   ]
  },
  {
   "cell_type": "markdown",
   "metadata": {},
   "source": [
    "## Python identity Operators"
   ]
  },
  {
   "cell_type": "code",
   "execution_count": 18,
   "metadata": {},
   "outputs": [
    {
     "data": {
      "text/html": [
       "<div>\n",
       "<style scoped>\n",
       "    .dataframe tbody tr th:only-of-type {\n",
       "        vertical-align: middle;\n",
       "    }\n",
       "\n",
       "    .dataframe tbody tr th {\n",
       "        vertical-align: top;\n",
       "    }\n",
       "\n",
       "    .dataframe thead th {\n",
       "        text-align: right;\n",
       "    }\n",
       "</style>\n",
       "<table border=\"1\" class=\"dataframe\">\n",
       "  <thead>\n",
       "    <tr style=\"text-align: right;\">\n",
       "      <th></th>\n",
       "      <th>Operator</th>\n",
       "      <th>Description</th>\n",
       "      <th>Example</th>\n",
       "      <th>Try it</th>\n",
       "    </tr>\n",
       "  </thead>\n",
       "  <tbody>\n",
       "    <tr>\n",
       "      <th>0</th>\n",
       "      <td>is</td>\n",
       "      <td>Returns True if both variables are the same ob...</td>\n",
       "      <td>x is y</td>\n",
       "      <td>Try it »</td>\n",
       "    </tr>\n",
       "    <tr>\n",
       "      <th>1</th>\n",
       "      <td>is not</td>\n",
       "      <td>Returns True if both variables are not the sam...</td>\n",
       "      <td>x is not y</td>\n",
       "      <td>Try it »</td>\n",
       "    </tr>\n",
       "  </tbody>\n",
       "</table>\n",
       "</div>"
      ],
      "text/plain": [
       "  Operator                                        Description     Example  \\\n",
       "0       is  Returns True if both variables are the same ob...      x is y   \n",
       "1   is not  Returns True if both variables are not the sam...  x is not y   \n",
       "\n",
       "     Try it  \n",
       "0  Try it »  \n",
       "1  Try it »  "
      ]
     },
     "execution_count": 18,
     "metadata": {},
     "output_type": "execute_result"
    }
   ],
   "source": [
    "df[4]"
   ]
  },
  {
   "cell_type": "code",
   "execution_count": 23,
   "metadata": {},
   "outputs": [
    {
     "name": "stdout",
     "output_type": "stream",
     "text": [
      "140705763627272\n",
      "140705763627272\n"
     ]
    },
    {
     "data": {
      "text/plain": [
       "True"
      ]
     },
     "execution_count": 23,
     "metadata": {},
     "output_type": "execute_result"
    }
   ],
   "source": [
    "x : str = 'abc'\n",
    "y : str = 'abc'\n",
    "\n",
    "print(id(x))\n",
    "print(id(y))\n",
    "\n",
    "x is y\n",
    "# x is not y"
   ]
  },
  {
   "cell_type": "code",
   "execution_count": 24,
   "metadata": {},
   "outputs": [
    {
     "name": "stdout",
     "output_type": "stream",
     "text": [
      "2577149745440\n",
      "2577149743520\n"
     ]
    },
    {
     "data": {
      "text/plain": [
       "True"
      ]
     },
     "execution_count": 24,
     "metadata": {},
     "output_type": "execute_result"
    }
   ],
   "source": [
    "name : str = \"Taha\"\n",
    "surname : str = \"Khan\"\n",
    "\n",
    "print(id(name))\n",
    "print(id(surname))\n",
    "\n",
    "name is not surname"
   ]
  },
  {
   "cell_type": "markdown",
   "metadata": {},
   "source": [
    "## Python Memebership Operator"
   ]
  },
  {
   "cell_type": "code",
   "execution_count": 25,
   "metadata": {},
   "outputs": [
    {
     "data": {
      "text/html": [
       "<div>\n",
       "<style scoped>\n",
       "    .dataframe tbody tr th:only-of-type {\n",
       "        vertical-align: middle;\n",
       "    }\n",
       "\n",
       "    .dataframe tbody tr th {\n",
       "        vertical-align: top;\n",
       "    }\n",
       "\n",
       "    .dataframe thead th {\n",
       "        text-align: right;\n",
       "    }\n",
       "</style>\n",
       "<table border=\"1\" class=\"dataframe\">\n",
       "  <thead>\n",
       "    <tr style=\"text-align: right;\">\n",
       "      <th></th>\n",
       "      <th>Operator</th>\n",
       "      <th>Description</th>\n",
       "      <th>Example</th>\n",
       "      <th>Try it</th>\n",
       "    </tr>\n",
       "  </thead>\n",
       "  <tbody>\n",
       "    <tr>\n",
       "      <th>0</th>\n",
       "      <td>in</td>\n",
       "      <td>Returns True if a sequence with the specified ...</td>\n",
       "      <td>x in y</td>\n",
       "      <td>Try it »</td>\n",
       "    </tr>\n",
       "    <tr>\n",
       "      <th>1</th>\n",
       "      <td>not in</td>\n",
       "      <td>Returns True if a sequence with the specified ...</td>\n",
       "      <td>x not in y</td>\n",
       "      <td>Try it »</td>\n",
       "    </tr>\n",
       "  </tbody>\n",
       "</table>\n",
       "</div>"
      ],
      "text/plain": [
       "  Operator                                        Description     Example  \\\n",
       "0       in  Returns True if a sequence with the specified ...      x in y   \n",
       "1   not in  Returns True if a sequence with the specified ...  x not in y   \n",
       "\n",
       "     Try it  \n",
       "0  Try it »  \n",
       "1  Try it »  "
      ]
     },
     "execution_count": 25,
     "metadata": {},
     "output_type": "execute_result"
    }
   ],
   "source": [
    "df[5]"
   ]
  },
  {
   "cell_type": "code",
   "execution_count": 27,
   "metadata": {},
   "outputs": [
    {
     "data": {
      "text/plain": [
       "False"
      ]
     },
     "execution_count": 27,
     "metadata": {},
     "output_type": "execute_result"
    }
   ],
   "source": [
    "names : list[str] = [chr(i) for i in range(65,91)]\n",
    "\n",
    "\"D\" in names\n",
    "# \"Pakistan\" in names"
   ]
  },
  {
   "cell_type": "code",
   "execution_count": 28,
   "metadata": {},
   "outputs": [
    {
     "data": {
      "text/plain": [
       "True"
      ]
     },
     "execution_count": 28,
     "metadata": {},
     "output_type": "execute_result"
    }
   ],
   "source": [
    "name : list[str] = [\"Taha khan\", \"Tahaaa\", \"Elvishh bhaii\"]\n",
    "uinput : str = input(\"Enter your name\")\n",
    "\n",
    "uinput in name\n"
   ]
  },
  {
   "cell_type": "markdown",
   "metadata": {},
   "source": [
    "<img src=\"https://learningmonkey.in/wp-content/uploads/2021/05/Operator-Precedence-and-Associativity-in-Python.jpg\">\n",
    "\n",
    "## PEMDAS"
   ]
  },
  {
   "cell_type": "code",
   "execution_count": 29,
   "metadata": {},
   "outputs": [
    {
     "name": "stdout",
     "output_type": "stream",
     "text": [
      "10.666666666666666\n"
     ]
    }
   ],
   "source": [
    "sum : int = (2 + 4 * 8 / 3 -2 ) * (2 * 2 / 4)\n",
    "print(sum)"
   ]
  },
  {
   "cell_type": "code",
   "execution_count": 30,
   "metadata": {},
   "outputs": [
    {
     "name": "stdout",
     "output_type": "stream",
     "text": [
      "taha\n",
      "34\n",
      "khan\n"
     ]
    }
   ],
   "source": [
    "a , b , c = (\"taha\", 34, \"khan\")\n",
    "\n",
    "print(a)\n",
    "print(b)\n",
    "print(c)"
   ]
  },
  {
   "cell_type": "code",
   "execution_count": 31,
   "metadata": {},
   "outputs": [
    {
     "name": "stdout",
     "output_type": "stream",
     "text": [
      "qasim 43 43\n"
     ]
    }
   ],
   "source": [
    "data = ('qasim', 43, 43)\n",
    "print(data[0], data[1], data[2])"
   ]
  },
  {
   "cell_type": "code",
   "execution_count": 33,
   "metadata": {},
   "outputs": [
    {
     "name": "stdout",
     "output_type": "stream",
     "text": [
      "qasim 43 43\n"
     ]
    }
   ],
   "source": [
    "data = ('qasim', 43, 43)\n",
    "print(*data)"
   ]
  },
  {
   "cell_type": "code",
   "execution_count": 34,
   "metadata": {},
   "outputs": [
    {
     "data": {
      "text/plain": [
       "'AAA'"
      ]
     },
     "execution_count": 34,
     "metadata": {},
     "output_type": "execute_result"
    }
   ],
   "source": [
    "\"A\" * 3"
   ]
  },
  {
   "cell_type": "markdown",
   "metadata": {},
   "source": [
    "## ZEN OF PYTHON"
   ]
  },
  {
   "cell_type": "code",
   "execution_count": 35,
   "metadata": {},
   "outputs": [
    {
     "name": "stdout",
     "output_type": "stream",
     "text": [
      "The Zen of Python, by Tim Peters\n",
      "\n",
      "Beautiful is better than ugly.\n",
      "Explicit is better than implicit.\n",
      "Simple is better than complex.\n",
      "Complex is better than complicated.\n",
      "Flat is better than nested.\n",
      "Sparse is better than dense.\n",
      "Readability counts.\n",
      "Special cases aren't special enough to break the rules.\n",
      "Although practicality beats purity.\n",
      "Errors should never pass silently.\n",
      "Unless explicitly silenced.\n",
      "In the face of ambiguity, refuse the temptation to guess.\n",
      "There should be one-- and preferably only one --obvious way to do it.\n",
      "Although that way may not be obvious at first unless you're Dutch.\n",
      "Now is better than never.\n",
      "Although never is often better than *right* now.\n",
      "If the implementation is hard to explain, it's a bad idea.\n",
      "If the implementation is easy to explain, it may be a good idea.\n",
      "Namespaces are one honking great idea -- let's do more of those!\n"
     ]
    }
   ],
   "source": [
    "import this"
   ]
  }
 ],
 "metadata": {
  "kernelspec": {
   "display_name": "base",
   "language": "python",
   "name": "python3"
  },
  "language_info": {
   "codemirror_mode": {
    "name": "ipython",
    "version": 3
   },
   "file_extension": ".py",
   "mimetype": "text/x-python",
   "name": "python",
   "nbconvert_exporter": "python",
   "pygments_lexer": "ipython3",
   "version": "3.12.0"
  }
 },
 "nbformat": 4,
 "nbformat_minor": 2
}
