{
 "cells": [
  {
   "cell_type": "markdown",
   "metadata": {},
   "source": [
    "### If else elif\n",
    "```\n",
    "if logic:\n",
    "     true_block\n",
    "else:\n",
    "     false_block\n",
    "```\n",
    "\n",
    "#### Comprehensive Style\n",
    "```\n",
    "True_block if logic else false_logic\n",
    "```"
   ]
  },
  {
   "cell_type": "code",
   "execution_count": 8,
   "metadata": {},
   "outputs": [
    {
     "name": "stdout",
     "output_type": "stream",
     "text": [
      "world\n"
     ]
    }
   ],
   "source": [
    "if False:\n",
    "    print(\"hello\")\n",
    "else:\n",
    "    print(\"world\")    "
   ]
  },
  {
   "cell_type": "code",
   "execution_count": 6,
   "metadata": {},
   "outputs": [
    {
     "name": "stdout",
     "output_type": "stream",
     "text": [
      "hello\n"
     ]
    }
   ],
   "source": [
    "cars : list = ['bmw', 'audi', 'toyota', 'subaru']\n",
    "\n",
    "print(\"hello\") if 'bmw' in cars else print(\"bye\") # Comprensive Style\n"
   ]
  },
  {
   "cell_type": "markdown",
   "metadata": {},
   "source": [
    "### Compression Operators \n",
    "* ==\n",
    "* <= ... >=\n",
    "* !=\n",
    "#### logic\n",
    "* and\n",
    "* or \n",
    "* not"
   ]
  },
  {
   "cell_type": "code",
   "execution_count": 9,
   "metadata": {},
   "outputs": [
    {
     "name": "stdout",
     "output_type": "stream",
     "text": [
      "world\n"
     ]
    }
   ],
   "source": [
    "if False:\n",
    "    print(\"hello\")\n",
    "elif False:\n",
    "    print(\"world\")\n",
    "elif False:   \n",
    "    print(\"hello\")      \n",
    "elif True:\n",
    "    print(\"world\")  # ye chala ga\n",
    "else:\n",
    "    print(\"hello\")                "
   ]
  },
  {
   "cell_type": "markdown",
   "metadata": {},
   "source": [
    "### Grading Rule"
   ]
  },
  {
   "cell_type": "code",
   "execution_count": 12,
   "metadata": {},
   "outputs": [
    {
     "name": "stdout",
     "output_type": "stream",
     "text": [
      "Your Grade is E and Percentage is 33\n"
     ]
    }
   ],
   "source": [
    "from typing import Union,Optional\n",
    "\n",
    "per : Union[int, float] = int(input(\"Enter Your Percentage: \"))\n",
    "grade : Optional[str] = None\n",
    "\n",
    "if per >= 80:\n",
    "    grade = \"A+\"\n",
    "elif per >= 70:\n",
    "    grade = \"A\"\n",
    "elif per >= 60:\n",
    "    grade = \"B\"\n",
    "elif per >= 50:\n",
    "    grade = \"C\"\n",
    "elif per >= 40:\n",
    "    grade = \"D\"\n",
    "elif per >= 33:\n",
    "    grade = \"E\"\n",
    "else:\n",
    "    grade = \"Fail\"\n",
    "\n",
    "print(f\"Your Grade is {grade} and Percentage is {per}\")                        \n"
   ]
  },
  {
   "cell_type": "markdown",
   "metadata": {},
   "source": [
    "#### with logical and / or / not"
   ]
  },
  {
   "cell_type": "code",
   "execution_count": null,
   "metadata": {},
   "outputs": [],
   "source": [
    "from typing import Union,Optional\n",
    "\n",
    "per : Union[int, float] = float(input(\"Enter Your Percentage: \"))\n",
    "grade : Optional[str] = None\n",
    "\n",
    "if per >= 80 and per <= 100:\n",
    "    grade = \"A+\"\n",
    "elif per >= 70 and per < 80:\n",
    "    grade = \"A\"\n",
    "elif per >= 60 and per < 70:\n",
    "    grade = \"B\"\n",
    "elif per >= 50 and per < 60:\n",
    "    grade = \"C\"\n",
    "elif per >= 40 and per < 50:\n",
    "    grade = \"D\"\n",
    "elif per >= 33 and per < 40:\n",
    "    grade = \"E\"\n",
    "else:\n",
    "    grade = \"Fail\"\n",
    "\n",
    "print(f\"Your Grade is {grade} and Percentage is {per}\")   "
   ]
  },
  {
   "cell_type": "markdown",
   "metadata": {},
   "source": [
    "### Student Percentages"
   ]
  },
  {
   "cell_type": "code",
   "execution_count": 5,
   "metadata": {},
   "outputs": [
    {
     "name": "stdout",
     "output_type": "stream",
     "text": [
      "[80, 70, 60, 50, 40, 33, 0]\n",
      "['A+', 'A', 'B', 'C', 'D', 'E', 'Fail']\n"
     ]
    }
   ],
   "source": [
    "from typing import Union\n",
    "PerType = Union[float, int]\n",
    "\n",
    "per : list[PerType] = [80, 70, 60, 50, 40, 33, 0]\n",
    "\n",
    "grades : list[str] = []\n",
    "\n",
    "for student_per in per:\n",
    "\n",
    "    grade : str = \"\"\n",
    "\n",
    "    if student_per >= 80 and student_per <= 100:\n",
    "        grade = (\"A+\")\n",
    "    elif student_per >= 70 and student_per < 80:\n",
    "        grade = (\"A\")\n",
    "    elif student_per >= 60 and student_per < 70:\n",
    "        grade = (\"B\")\n",
    "    elif student_per >= 50 and student_per < 60:\n",
    "        grade = (\"C\")\n",
    "    elif student_per >= 40 and student_per < 50:\n",
    "        grade = (\"D\")\n",
    "    elif student_per >= 33 and student_per < 40:\n",
    "        grade= (\"E\")\n",
    "    else:\n",
    "        grade=(\"Fail\")\n",
    "\n",
    "    grades.append(grade)    \n",
    "\n",
    "\n",
    "print(per)  \n",
    "print(grades)      "
   ]
  },
  {
   "cell_type": "code",
   "execution_count": 10,
   "metadata": {},
   "outputs": [
    {
     "name": "stdout",
     "output_type": "stream",
     "text": [
      "[(80, 'A+', 0), (70, 'A', 1), (60, 'B', 2), (50, 'C', 3), (40, 'D', 4), (33, 'E', 5), (0, 'Fail', 6)]\n"
     ]
    }
   ],
   "source": [
    "database : list[tuple[int,str,int]] = list(zip(per, grades, list(range(len(per)))))\n",
    "print(database)"
   ]
  },
  {
   "cell_type": "code",
   "execution_count": 12,
   "metadata": {},
   "outputs": [
    {
     "data": {
      "text/plain": [
       "[(80, 'A+', 0),\n",
       " (70, 'A', 1),\n",
       " (60, 'B', 2),\n",
       " (50, 'C', 3),\n",
       " (40, 'D', 4),\n",
       " (33, 'E', 5),\n",
       " (0, 'Fail', 6)]"
      ]
     },
     "metadata": {},
     "output_type": "display_data"
    },
    {
     "data": {
      "text/plain": [
       "[(80, 'A+', 0),\n",
       " (70, 'A', 1),\n",
       " (60, 'B', 2),\n",
       " (50, 'C', 3),\n",
       " (40, 'D', 4),\n",
       " (33, 'E', 5),\n",
       " (0, 'Fail', 6)]"
      ]
     },
     "execution_count": 12,
     "metadata": {},
     "output_type": "execute_result"
    }
   ],
   "source": [
    "display(database)\n",
    "sorted(database, key=lambda x:x[0] ,reverse=True)"
   ]
  },
  {
   "cell_type": "code",
   "execution_count": 13,
   "metadata": {},
   "outputs": [
    {
     "data": {
      "text/plain": [
       "True"
      ]
     },
     "execution_count": 13,
     "metadata": {},
     "output_type": "execute_result"
    }
   ],
   "source": [
    "cars : list[str] = ['bmw', 'audi', 'toyota', 'subaru']\n",
    "\n",
    "'bmw' in cars"
   ]
  },
  {
   "cell_type": "code",
   "execution_count": 14,
   "metadata": {},
   "outputs": [
    {
     "name": "stdout",
     "output_type": "stream",
     "text": [
      "Marie, you can post a response if you wish.\n"
     ]
    }
   ],
   "source": [
    "banned_users: list[str] = ['andrew', 'carolina', 'david']\n",
    "user : str = 'marie'\n",
    "\n",
    "if user not in banned_users:\n",
    "    print(f\"{user.title()}, you can post a response if you wish.\")"
   ]
  },
  {
   "cell_type": "code",
   "execution_count": 15,
   "metadata": {},
   "outputs": [
    {
     "name": "stdout",
     "output_type": "stream",
     "text": [
      "Sent otp to your mobile number\n",
      "Login Successfull\n"
     ]
    }
   ],
   "source": [
    "user_name : str = input(\"Enter Your Name: \")\n",
    "user_pwd : str = input(\"Enter Your Password: \")\n",
    "\n",
    "if user_name == \"admin\" and user_pwd == \"123\":\n",
    "    print(\"Sent otp to your mobile number\")\n",
    "    opt : int = int(input(\"Enter Your Otp: \"))\n",
    "    if opt == 1234:\n",
    "        print(\"Login Successfull\")\n",
    "    else:\n",
    "        print(\"Login Failed\")\n",
    "else:\n",
    "    print(\"Invalid User Name or Password\")        \n"
   ]
  }
 ],
 "metadata": {
  "kernelspec": {
   "display_name": "python12",
   "language": "python",
   "name": "python3"
  },
  "language_info": {
   "codemirror_mode": {
    "name": "ipython",
    "version": 3
   },
   "file_extension": ".py",
   "mimetype": "text/x-python",
   "name": "python",
   "nbconvert_exporter": "python",
   "pygments_lexer": "ipython3",
   "version": "3.12.0"
  }
 },
 "nbformat": 4,
 "nbformat_minor": 2
}
