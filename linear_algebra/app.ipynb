{
 "cells": [
  {
   "cell_type": "markdown",
   "metadata": {},
   "source": [
    "# system of equations as matrices"
   ]
  },
  {
   "cell_type": "code",
   "execution_count": 3,
   "metadata": {},
   "outputs": [],
   "source": [
    "import numpy as np"
   ]
  },
  {
   "cell_type": "code",
   "execution_count": 5,
   "metadata": {},
   "outputs": [
    {
     "name": "stdout",
     "output_type": "stream",
     "text": [
      "[[2 3]\n",
      " [2 4]]\n"
     ]
    }
   ],
   "source": [
    "A = np.matrix([[2, 3], [2, 4]])\n",
    "\n",
    "print(A)"
   ]
  },
  {
   "cell_type": "code",
   "execution_count": 6,
   "metadata": {},
   "outputs": [
    {
     "name": "stdout",
     "output_type": "stream",
     "text": [
      "2.0\n"
     ]
    }
   ],
   "source": [
    "# find determinant\n",
    "\n",
    "print(np.linalg.det(A))"
   ]
  },
  {
   "cell_type": "code",
   "execution_count": 7,
   "metadata": {},
   "outputs": [
    {
     "name": "stdout",
     "output_type": "stream",
     "text": [
      "Matrix is not singular\n"
     ]
    }
   ],
   "source": [
    "# check matrix is singular or not\n",
    "\n",
    "if np.linalg.det(A) == 0:\n",
    "    print(\"Matrix is singular\")\n",
    "else:\n",
    "    print(\"Matrix is not singular\")"
   ]
  },
  {
   "cell_type": "code",
   "execution_count": 8,
   "metadata": {},
   "outputs": [
    {
     "name": "stdout",
     "output_type": "stream",
     "text": [
      "[[1 2 3]\n",
      " [4 5 6]\n",
      " [7 8 9]]\n"
     ]
    }
   ],
   "source": [
    "# 3x3 matrix\n",
    "\n",
    "B = np.matrix([[1, 2, 3], [4, 5, 6], [7, 8, 9]])\n",
    "\n",
    "print(B)"
   ]
  },
  {
   "cell_type": "code",
   "execution_count": 10,
   "metadata": {},
   "outputs": [
    {
     "name": "stdout",
     "output_type": "stream",
     "text": [
      "0.0\n",
      "Matrix is singular\n"
     ]
    }
   ],
   "source": [
    "print(np.linalg.det(B))\n",
    "\n",
    "if np.linalg.det(B) == 0:\n",
    "    print(\"Matrix is singular\")\n",
    "else:\n",
    "    print(\"Matrix is not singular\")"
   ]
  },
  {
   "cell_type": "code",
   "execution_count": 11,
   "metadata": {},
   "outputs": [
    {
     "name": "stdout",
     "output_type": "stream",
     "text": [
      "[[2 2]\n",
      " [3 4]]\n"
     ]
    }
   ],
   "source": [
    "# matrix transpose\n",
    "\n",
    "print(A.T)"
   ]
  },
  {
   "cell_type": "code",
   "execution_count": 12,
   "metadata": {},
   "outputs": [
    {
     "name": "stdout",
     "output_type": "stream",
     "text": [
      "[[ 2.  -1.5]\n",
      " [-1.   1. ]]\n"
     ]
    }
   ],
   "source": [
    "# system of equations as matrices\n",
    "\n",
    "A = np.matrix([[2, 3], [2, 4]])\n",
    "B = np.matrix([[8], [10]])\n",
    "\n",
    "# find inverse of matrix A\n",
    "\n",
    "A_inv = np.linalg.inv(A)\n",
    "print(A_inv)"
   ]
  },
  {
   "cell_type": "code",
   "execution_count": null,
   "metadata": {},
   "outputs": [
    {
     "name": "stdout",
     "output_type": "stream",
     "text": [
      "[[1.]\n",
      " [2.]]\n"
     ]
    }
   ],
   "source": [
    "# gaussian elimination method\n",
    "\n",
    "\n",
    "\n",
    "# using numpy function\n",
    "\n",
    "\n",
    "\n",
    "# using numpy function\n",
    "\n",
    "\n",
    "A = np.matrix([[2, 3], [2, 4]])\n",
    "\n",
    "B = np.matrix([[8], [10]])\n",
    "\n",
    "X = np.linalg.solve(A, B)\n",
    "\n",
    "print(X)\n",
    "\n",
    "# using gaussian elimination method\n",
    "\n",
    "def gauss_elimination(A, B):\n",
    "    "
   ]
  }
 ],
 "metadata": {
  "kernelspec": {
   "display_name": "venv",
   "language": "python",
   "name": "python3"
  },
  "language_info": {
   "codemirror_mode": {
    "name": "ipython",
    "version": 3
   },
   "file_extension": ".py",
   "mimetype": "text/x-python",
   "name": "python",
   "nbconvert_exporter": "python",
   "pygments_lexer": "ipython3",
   "version": "3.11.5"
  }
 },
 "nbformat": 4,
 "nbformat_minor": 2
}
