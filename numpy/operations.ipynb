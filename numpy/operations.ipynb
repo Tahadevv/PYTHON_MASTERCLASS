{
 "cells": [
  {
   "cell_type": "markdown",
   "metadata": {},
   "source": [
    "## Numpy array operations"
   ]
  },
  {
   "cell_type": "code",
   "execution_count": 19,
   "metadata": {},
   "outputs": [],
   "source": [
    "import numpy as np\n"
   ]
  },
  {
   "cell_type": "code",
   "execution_count": 20,
   "metadata": {},
   "outputs": [
    {
     "name": "stdout",
     "output_type": "stream",
     "text": [
      "basic slicing [2 3 4]\n",
      "with step [2 4]\n",
      "negative index [3 4]\n"
     ]
    }
   ],
   "source": [
    "arr = np.array([1, 2, 3, 4, 5])\n",
    "print(\"basic slicing\", arr[1:4])\n",
    "print(\"with step\", arr[1:4:2])\n",
    "print(\"negative index\", arr[-3:-1])"
   ]
  },
  {
   "cell_type": "code",
   "execution_count": 21,
   "metadata": {},
   "outputs": [
    {
     "name": "stdout",
     "output_type": "stream",
     "text": [
      "2d array slicing [2 3 4]\n",
      "entire row [1 2 3 4 5]\n",
      "entire column [2 7]\n"
     ]
    }
   ],
   "source": [
    "arr_2d = np.array([[1, 2, 3, 4, 5], [6, 7, 8, 9, 10]])\n",
    "print(\"2d array slicing\", arr_2d[0, 1:4])\n",
    "print(\"entire row\", arr_2d[0, :])\n",
    "print(\"entire column\", arr_2d[:, 1])"
   ]
  },
  {
   "cell_type": "markdown",
   "metadata": {},
   "source": [
    "### Sorting"
   ]
  },
  {
   "cell_type": "code",
   "execution_count": 22,
   "metadata": {},
   "outputs": [
    {
     "name": "stdout",
     "output_type": "stream",
     "text": [
      "sorting [0 1 2 3]\n",
      "sorting 2d array [[ 1  2  8  4  5]\n",
      " [ 6  7 10  9 10]]\n"
     ]
    }
   ],
   "source": [
    "unsorted_arr = np.array([3, 2, 0, 1])\n",
    "print(\"sorting\", np.sort(unsorted_arr))\n",
    "\n",
    "arr_2d = np.array([[1, 2, 10, 4, 5], [6, 7, 8, 9, 10]])\n",
    "print(\"sorting 2d array\", np.sort(arr_2d, axis=0))\n",
    "\n"
   ]
  },
  {
   "cell_type": "markdown",
   "metadata": {},
   "source": [
    "## Filter"
   ]
  },
  {
   "cell_type": "code",
   "execution_count": 23,
   "metadata": {},
   "outputs": [
    {
     "name": "stdout",
     "output_type": "stream",
     "text": [
      "filtering [2 4]\n",
      "filtering [4 5]\n"
     ]
    }
   ],
   "source": [
    "numbers = np.array([1, 2, 3, 4, 5])\n",
    "even_numbers = numbers % 2 == 0\n",
    "print(\"filtering\", numbers[even_numbers])\n",
    "print(\"filtering\", numbers[numbers > 3])"
   ]
  },
  {
   "cell_type": "markdown",
   "metadata": {},
   "source": [
    "## Filter with mask"
   ]
  },
  {
   "cell_type": "code",
   "execution_count": 25,
   "metadata": {},
   "outputs": [
    {
     "name": "stdout",
     "output_type": "stream",
     "text": [
      "masking [4 5]\n"
     ]
    }
   ],
   "source": [
    "mask = numbers > 3\n",
    "print(\"masking\", numbers[mask])"
   ]
  },
  {
   "cell_type": "markdown",
   "metadata": {},
   "source": [
    "## Fancy indexing vs np.where()"
   ]
  },
  {
   "cell_type": "code",
   "execution_count": 30,
   "metadata": {},
   "outputs": [
    {
     "name": "stdout",
     "output_type": "stream",
     "text": [
      "using indices [2 4 5]\n",
      "where [ 1  2  3 16 20]\n"
     ]
    }
   ],
   "source": [
    "indices = np.array([1, 3, 4])\n",
    "print(\"using indices\", numbers[indices])\n",
    "\n",
    "where = np.where(numbers > 3, numbers*4, numbers)\n",
    "print(\"where\", where)"
   ]
  },
  {
   "cell_type": "markdown",
   "metadata": {},
   "source": [
    "### adding and removing data"
   ]
  },
  {
   "cell_type": "code",
   "execution_count": 33,
   "metadata": {},
   "outputs": [
    {
     "name": "stdout",
     "output_type": "stream",
     "text": [
      "concatenation [1 2 3 4 5 6]\n",
      "stacking [[1 2 3]\n",
      " [4 5 6]]\n",
      "stacking [[1 4]\n",
      " [2 5]\n",
      " [3 6]]\n"
     ]
    }
   ],
   "source": [
    "arr1 = np.array([1, 2, 3])\n",
    "arr2 = np.array([4, 5, 6])\n",
    "\n",
    "print(\"concatenation\", np.concatenate((arr1, arr2)))\n",
    "print(\"stacking\", np.stack((arr1, arr2), axis=0))\n",
    "print(\"stacking\", np.stack((arr1, arr2), axis=1))\n"
   ]
  },
  {
   "cell_type": "markdown",
   "metadata": {},
   "source": [
    "## array compatibility"
   ]
  },
  {
   "cell_type": "code",
   "execution_count": 37,
   "metadata": {},
   "outputs": [
    {
     "name": "stdout",
     "output_type": "stream",
     "text": [
      "Comparison [False False False]\n",
      "Comparison [ True  True  True]\n",
      "compatibility shape True\n"
     ]
    }
   ],
   "source": [
    "a = np.array([1, 2, 3])\n",
    "b = np.array([4, 5, 6])\n",
    "c = np.array([7, 8, 9])\n",
    "\n",
    "print(\"Comparison\", np.equal(a, b))\n",
    "print(\"Comparison\", np.equal(a, a))\n",
    "\n",
    "print(\"compatibility shape\", a.shape == b.shape)"
   ]
  },
  {
   "cell_type": "code",
   "execution_count": 40,
   "metadata": {},
   "outputs": [
    {
     "name": "stdout",
     "output_type": "stream",
     "text": [
      "[[1 2]\n",
      " [3 4]]\n",
      "[[1 2]\n",
      " [3 4]\n",
      " [5 6]]\n",
      "[[1 2]\n",
      " [3 4]]\n",
      "[[1 2 5]\n",
      " [3 4 6]]\n"
     ]
    }
   ],
   "source": [
    "orignal = np.array([[1,2], [3,4]])\n",
    "new = np.array([5,6])\n",
    "\n",
    "with_new_row = np.vstack((orignal, new))\n",
    "print(orignal)\n",
    "print(with_new_row)\n",
    "\n",
    "new = np.array([[5], [6]])\n",
    "with_new_column = np.hstack((orignal, new))\n",
    "print(orignal)\n",
    "print(with_new_column)"
   ]
  },
  {
   "cell_type": "code",
   "execution_count": 41,
   "metadata": {},
   "outputs": [
    {
     "name": "stdout",
     "output_type": "stream",
     "text": [
      "delete [1 3 4 5]\n"
     ]
    }
   ],
   "source": [
    "arr = np.array([1, 2, 3, 4, 5])\n",
    "print(\"delete\", np.delete(arr, 1))\n"
   ]
  }
 ],
 "metadata": {
  "kernelspec": {
   "display_name": "Python 3",
   "language": "python",
   "name": "python3"
  },
  "language_info": {
   "codemirror_mode": {
    "name": "ipython",
    "version": 3
   },
   "file_extension": ".py",
   "mimetype": "text/x-python",
   "name": "python",
   "nbconvert_exporter": "python",
   "pygments_lexer": "ipython3",
   "version": "3.13.0"
  }
 },
 "nbformat": 4,
 "nbformat_minor": 2
}
