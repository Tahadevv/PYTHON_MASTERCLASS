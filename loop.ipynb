{
 "cells": [
  {
   "cell_type": "markdown",
   "metadata": {},
   "source": [
    "## loop and input from user\n",
    "* while\n",
    "* for\n",
    "* controls\n",
    "    * break\n",
    "    * continue\n",
    "    * pass\n",
    "* input with input function\n",
    "* input from console\n",
    "\n",
    "## loop working on iterative data types\n",
    "* list\n",
    "* dictionary\n",
    "* tuple\n",
    "* string\n",
    "\n",
    "\n",
    "\n"
   ]
  },
  {
   "cell_type": "code",
   "execution_count": 1,
   "metadata": {},
   "outputs": [
    {
     "name": "stdout",
     "output_type": "stream",
     "text": [
      "[1, 2, 3, 4, 5]\n",
      "Current value: 1\n",
      "Current value: 2\n",
      "Current value: 3\n",
      "Current value: 4\n",
      "Current value: 5\n"
     ]
    }
   ],
   "source": [
    "# list iteration\n",
    "#                 0  1  2  3  4\n",
    "l1 : list[int] = [1, 2, 3, 4, 5]\n",
    "print(l1)\n",
    "\n",
    "for i in l1:\n",
    "    print(f\"Current value: {i}\")"
   ]
  },
  {
   "cell_type": "code",
   "execution_count": 2,
   "metadata": {},
   "outputs": [
    {
     "name": "stdout",
     "output_type": "stream",
     "text": [
      "(1, 2, 3, 4, 5)\n",
      "Current value: 1\n",
      "Current value: 2\n",
      "Current value: 3\n",
      "Current value: 4\n",
      "Current value: 5\n"
     ]
    }
   ],
   "source": [
    "# tuple iteration\n",
    "#                 0  1  2  3  4\n",
    "t1 : tuple[int] = (1, 2, 3, 4, 5)\n",
    "print(t1)\n",
    "\n",
    "for i in t1:\n",
    "    print(f\"Current value: {i}\")"
   ]
  },
  {
   "cell_type": "code",
   "execution_count": 4,
   "metadata": {},
   "outputs": [
    {
     "name": "stdout",
     "output_type": "stream",
     "text": [
      "HelloWorld!\n",
      "Current character: H\n",
      "Current character: e\n",
      "Current character: l\n",
      "Current character: l\n",
      "Current character: o\n",
      "Current character: W\n",
      "Current character: o\n",
      "Current character: r\n",
      "Current character: l\n",
      "Current character: d\n",
      "Current character: !\n"
     ]
    }
   ],
   "source": [
    "# string iteration\n",
    "s1 : str = \"HelloWorld!\"\n",
    "print(s1)\n",
    "\n",
    "for c in s1:\n",
    "    print(f\"Current character: {c}\")"
   ]
  },
  {
   "cell_type": "code",
   "execution_count": 8,
   "metadata": {},
   "outputs": [
    {
     "name": "stdout",
     "output_type": "stream",
     "text": [
      "{'a': 1, 'b': 2, 'c': 3}\n",
      "Current key: a and Current value: 1\n",
      "Current key: b and Current value: 2\n",
      "Current key: c and Current value: 3\n"
     ]
    }
   ],
   "source": [
    "# ddictionary iteration\n",
    "\n",
    "d1 : dict[str, int] = {\"a\": 1, \"b\": 2, \"c\": 3}\n",
    "print(d1)\n",
    "\n",
    "for k in d1:\n",
    "    print(f\"Current key: {k} and Current value: {d1[k]}\")"
   ]
  },
  {
   "cell_type": "code",
   "execution_count": 11,
   "metadata": {},
   "outputs": [
    {
     "name": "stdout",
     "output_type": "stream",
     "text": [
      "{1, 2, 3, 4, 5}\n",
      "Current value: 1\n",
      "Current value: 2\n",
      "Current value: 3\n",
      "Current value: 4\n",
      "Current value: 5\n"
     ]
    }
   ],
   "source": [
    "# set iteration\n",
    "\n",
    "s1 : set[int] = {1, 2, 3, 4, 5, 4}\n",
    "print(s1)\n",
    "\n",
    "for i in s1:\n",
    "    print(f\"Current value: {i}\")"
   ]
  },
  {
   "cell_type": "markdown",
   "metadata": {},
   "source": [
    "## input from user\n",
    "* input function\n",
    "    * default type = string \n",
    "* sys.argv (for console input in abc.py file)\n",
    "    * default type = object\n",
    "\n"
   ]
  },
  {
   "cell_type": "code",
   "execution_count": 12,
   "metadata": {},
   "outputs": [
    {
     "name": "stdout",
     "output_type": "stream",
     "text": [
      "<class 'str'>\n",
      "Hello Taha!\n"
     ]
    }
   ],
   "source": [
    "name : str = input(\"Enter your name? : \\t\")\n",
    "\n",
    "print(type(name))\n",
    "\n",
    "print(f\"Hello {name}!\")"
   ]
  },
  {
   "cell_type": "code",
   "execution_count": 15,
   "metadata": {},
   "outputs": [
    {
     "name": "stdout",
     "output_type": "stream",
     "text": [
      "Name: John Doe and Age: 25\n",
      "Name: Jane Doe and Age: 26\n",
      "Name: Jack Doe and Age: 27\n"
     ]
    }
   ],
   "source": [
    "# zip example\n",
    "\n",
    "name : list[str] = [\"John\", \"Jane\", \"Jack\"]\n",
    "fname : list[str] = [\"Doe\", \"Doe\", \"Doe\"]\n",
    "age : list[int] = [25, 26, 27]\n",
    "\n",
    "list(zip(name, fname, age))\n",
    "\n",
    "\n",
    "\n",
    "for n, f, a in zip(name, fname, age):\n",
    "    print(f\"Name: {n} {f} and Age: {a}\")\n"
   ]
  },
  {
   "cell_type": "markdown",
   "metadata": {},
   "source": [
    "## while loop\n",
    "```\n",
    "while logic: # True/False\n",
    "    loop body\n",
    "```"
   ]
  },
  {
   "cell_type": "code",
   "execution_count": 16,
   "metadata": {},
   "outputs": [
    {
     "name": "stdout",
     "output_type": "stream",
     "text": [
      "Current Number: 0\n",
      "Current Number: 1\n",
      "Current Number: 2\n",
      "Current Number: 3\n",
      "Current Number: 4\n",
      "Current Number: 5\n",
      "Current Number: 6\n",
      "Current Number: 7\n",
      "Current Number: 8\n",
      "Current Number: 9\n"
     ]
    }
   ],
   "source": [
    "flag : bool = True\n",
    "\n",
    "currentNumber : int = 0\n",
    "\n",
    "while flag:\n",
    "    print(f\"Current Number: {currentNumber}\")\n",
    "    currentNumber += 1\n",
    "    \n",
    "    if currentNumber == 10: # flag false at some point\n",
    "        break\n",
    "    "
   ]
  },
  {
   "cell_type": "code",
   "execution_count": 17,
   "metadata": {},
   "outputs": [
    {
     "name": "stdout",
     "output_type": "stream",
     "text": [
      "Current value: 100\n",
      "Current value: 200\n",
      "Current value: 300\n",
      "Current value: 400\n",
      "Current value: 500\n"
     ]
    }
   ],
   "source": [
    "l1 : list[int] = [100, 200, 300, 400, 500]\n",
    "\n",
    "index : int = 0\n",
    "\n",
    "while index < len(l1):\n",
    "    print(f\"Current value: {l1[index]}\")\n",
    "    index += 1"
   ]
  },
  {
   "cell_type": "code",
   "execution_count": 2,
   "metadata": {},
   "outputs": [
    {
     "name": "stdout",
     "output_type": "stream",
     "text": [
      "write quite and exit to stop the program\n",
      "write quite and exit to stop the program\n"
     ]
    },
    {
     "data": {
      "text/plain": [
       "[{'name': 'Taha', 'education': 'bscs'}]"
      ]
     },
     "metadata": {},
     "output_type": "display_data"
    }
   ],
   "source": [
    "data : list[dict[str, str]] = []\n",
    "\n",
    "flag : bool = True\n",
    "\n",
    "while flag:\n",
    "    print(\"write quite and exit to stop the program\")\n",
    "    name : str = input(\"Enter your name: \\t\")\n",
    "    education : str = input(\"Enter your education: \\t\")\n",
    "    \n",
    "    \n",
    "    if name in [\"quite\", \"exit\", \"close\", \"stop\"] or education in [\"quite\", \"exit\", \"close\", \"stop\"] :\n",
    "        flag = False\n",
    "        break\n",
    "    \n",
    "    data.append({\"name\": name, \"education\": education})\n",
    "    \n",
    "display(data)    "
   ]
  },
  {
   "cell_type": "markdown",
   "metadata": {},
   "source": [
    "## Controls\n",
    "* break\n",
    "* continue\n",
    "* pass"
   ]
  },
  {
   "cell_type": "code",
   "execution_count": 8,
   "metadata": {},
   "outputs": [
    {
     "name": "stdout",
     "output_type": "stream",
     "text": [
      "Current value: 1\n",
      "Current value: 2\n",
      "Current value: 3\n",
      "Current value: 5\n"
     ]
    }
   ],
   "source": [
    "for i in range(1,10):\n",
    "    \n",
    "    if i == 4:\n",
    "        continue\n",
    "    \n",
    "    print(f\"Current value: {i}\")\n",
    "    \n",
    "    if i == 5:\n",
    "        break"
   ]
  },
  {
   "cell_type": "code",
   "execution_count": 6,
   "metadata": {},
   "outputs": [
    {
     "name": "stdout",
     "output_type": "stream",
     "text": [
      "2 x 1 = 2\n",
      "2 x 2 = 4\n",
      "2 x 3 = 6\n",
      "2 x 4 = 8\n",
      "2 x 5 = 10\n",
      "2 x 6 = 12\n",
      "2 x 7 = 14\n",
      "2 x 8 = 16\n",
      "2 x 9 = 18\n",
      "2 x 10 = 20\n"
     ]
    }
   ],
   "source": [
    "for i in range(1,11):\n",
    "    print(f\"2 x {i} = {2*i}\")"
   ]
  },
  {
   "cell_type": "code",
   "execution_count": null,
   "metadata": {},
   "outputs": [],
   "source": [
    "# pass statement\n",
    "while True:\n",
    "    pass # pass is used to do nothing but it is used to avoid syntax error. will write code later"
   ]
  },
  {
   "cell_type": "code",
   "execution_count": 9,
   "metadata": {},
   "outputs": [
    {
     "data": {
      "text/plain": [
       "False"
      ]
     },
     "execution_count": 9,
     "metadata": {},
     "output_type": "execute_result"
    }
   ],
   "source": [
    "age : int = int(input(\"Enter your age: \\t\"))\n",
    "age >= 18\n"
   ]
  },
  {
   "cell_type": "code",
   "execution_count": 14,
   "metadata": {},
   "outputs": [
    {
     "data": {
      "text/plain": [
       "[2, 4, 6, 8]"
      ]
     },
     "execution_count": 14,
     "metadata": {},
     "output_type": "execute_result"
    }
   ],
   "source": [
    "data : list[int] = [1, 2, 3, 4, 5, 6, 7, 8, 9]\n",
    "\n",
    "# extract even numbers from data list\n",
    "\n",
    "[i for i in data if i % 2 == 0]\n",
    "\n"
   ]
  },
  {
   "cell_type": "code",
   "execution_count": 15,
   "metadata": {},
   "outputs": [
    {
     "name": "stdout",
     "output_type": "stream",
     "text": [
      "Current value: 9\n",
      "Current value: 8\n",
      "Current value: 7\n",
      "Current value: 6\n",
      "Current value: 5\n",
      "Current value: 4\n",
      "Current value: 3\n",
      "Current value: 2\n",
      "Current value: 1\n"
     ]
    }
   ],
   "source": [
    "data : list[int] = [1, 2, 3, 4, 5, 6, 7, 8, 9]\n",
    "\n",
    "while data:\n",
    "    print(f\"Current value: {data.pop()}\")\n",
    "    "
   ]
  }
 ],
 "metadata": {
  "kernelspec": {
   "display_name": "python12",
   "language": "python",
   "name": "python3"
  },
  "language_info": {
   "codemirror_mode": {
    "name": "ipython",
    "version": 3
   },
   "file_extension": ".py",
   "mimetype": "text/x-python",
   "name": "python",
   "nbconvert_exporter": "python",
   "pygments_lexer": "ipython3",
   "version": "3.12.0"
  }
 },
 "nbformat": 4,
 "nbformat_minor": 2
}
