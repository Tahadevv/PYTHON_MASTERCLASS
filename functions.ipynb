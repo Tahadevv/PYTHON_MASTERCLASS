{
 "cells": [
  {
   "cell_type": "markdown",
   "metadata": {},
   "source": [
    "## function\n",
    "* pre-defined function\n",
    "    * provided by in language\n",
    "* user-dedfined function\n",
    "    * custom function\n",
    "### similar properties apply on both types    \n",
    "* Return & none-return function\n",
    "    * Return\n",
    "        * we can assign this function output in any variable     \n",
    "    * Return\n",
    "        * only run we can't assign to variable    \n",
    "\n",
    "### componenets\n",
    "* function declaration \n",
    "* function body\n",
    "* function calling\n",
    "\n",
    "### syntax function\n",
    "```\n",
    "def function_name(param1:type, param2type,...)->Return_type:\n",
    "    function_body\n",
    "\n",
    "function_name(arg1,arg2)    \n",
    "```\n",
    "\n",
    "### syntax lama function\n",
    "* one line function\n",
    "* without name\n",
    "* only use in this line\n",
    "```\n",
    "lambda param1,param2 : function_body\n",
    "```"
   ]
  },
  {
   "cell_type": "code",
   "execution_count": null,
   "metadata": {},
   "outputs": [],
   "source": [
    "# pre defined functions\n",
    "\n",
    "# print()\n",
    "# input()\n",
    "# int()"
   ]
  },
  {
   "cell_type": "code",
   "execution_count": 4,
   "metadata": {},
   "outputs": [
    {
     "name": "stdout",
     "output_type": "stream",
     "text": [
      "Pakistan\n"
     ]
    },
    {
     "data": {
      "text/plain": [
       "None"
      ]
     },
     "metadata": {},
     "output_type": "display_data"
    },
    {
     "data": {
      "text/plain": [
       "8"
      ]
     },
     "metadata": {},
     "output_type": "display_data"
    }
   ],
   "source": [
    "a : str = print(\"Pakistan\") # print is non return type function\n",
    "b : str = len(\"Zindabad\") # len is return type function\n",
    "\n",
    "\n",
    "display(a)\n",
    "display(b)"
   ]
  },
  {
   "cell_type": "markdown",
   "metadata": {},
   "source": [
    "### create a simple function with no arguments (default function)\n"
   ]
  },
  {
   "cell_type": "code",
   "execution_count": 6,
   "metadata": {},
   "outputs": [
    {
     "name": "stdout",
     "output_type": "stream",
     "text": [
      "Hello World\n"
     ]
    }
   ],
   "source": [
    "# user defined functions\n",
    "def greet()->None:\n",
    "    print(\"Hello World\")\n",
    "    \n",
    "\n",
    "greeter = greet() # function call    "
   ]
  },
  {
   "cell_type": "code",
   "execution_count": 8,
   "metadata": {},
   "outputs": [
    {
     "name": "stdout",
     "output_type": "stream",
     "text": [
      "PIAIC\n",
      "PIAIC\n",
      "PIAIC\n"
     ]
    }
   ],
   "source": [
    "def piaic()->None:  # declaration\n",
    "    # fuction body start\n",
    "    print(\"PIAIC\")  # statement 1\n",
    "    print(\"PIAIC\")  # statement 2\n",
    "    print(\"PIAIC\")  # statement 3\n",
    "    # function body end\n",
    "\n",
    "piaic()    "
   ]
  },
  {
   "cell_type": "markdown",
   "metadata": {},
   "source": [
    "### required parameter functions"
   ]
  },
  {
   "cell_type": "code",
   "execution_count": 41,
   "metadata": {},
   "outputs": [
    {
     "name": "stdout",
     "output_type": "stream",
     "text": [
      "num1 value is 2 and num2 value is 3\n"
     ]
    },
    {
     "data": {
      "text/plain": [
       "5"
      ]
     },
     "execution_count": 41,
     "metadata": {},
     "output_type": "execute_result"
    }
   ],
   "source": [
    "#                     param1           param2\n",
    "def add_two_numbers(first_number:int, second_number:int)->int:\n",
    "    total : int = first_number + second_number\n",
    "    print(f\"num1 value is {first_number} and num2 value is {second_number}\")\n",
    "    return total\n",
    "\n",
    "add_two_numbers(2, 3) # arg1 = 2, arg2 = 3 position arguments"
   ]
  },
  {
   "cell_type": "code",
   "execution_count": 40,
   "metadata": {},
   "outputs": [
    {
     "name": "stdout",
     "output_type": "stream",
     "text": [
      "num1 value is 3 and num2 value is 2\n"
     ]
    },
    {
     "data": {
      "text/plain": [
       "5"
      ]
     },
     "execution_count": 40,
     "metadata": {},
     "output_type": "execute_result"
    }
   ],
   "source": [
    "#                     param1           param2\n",
    "def add_two_numbers(first_number:int, second_number:int)->int:\n",
    "    total : int = first_number + second_number\n",
    "    print(f\"num1 value is {first_number} and num2 value is {second_number}\")\n",
    "    return total\n",
    "\n",
    "add_two_numbers(second_number=2,first_number=3) # arg1 = 2, arg2 = 3 key word arguments"
   ]
  },
  {
   "cell_type": "markdown",
   "metadata": {},
   "source": [
    "### function with optional parameters  "
   ]
  },
  {
   "cell_type": "code",
   "execution_count": 13,
   "metadata": {},
   "outputs": [
    {
     "name": "stdout",
     "output_type": "stream",
     "text": [
      "3\n"
     ]
    },
    {
     "data": {
      "text/plain": [
       "5"
      ]
     },
     "execution_count": 13,
     "metadata": {},
     "output_type": "execute_result"
    }
   ],
   "source": [
    "def add_two_numbers(first_number:int, second_number:int = 0)->int:\n",
    "    total : int = first_number + second_number\n",
    "    return total\n",
    "\n",
    "print(add_two_numbers(3)) # arg1 = 2, arg2 = 0\n",
    "add_two_numbers(2, 3) # arg1 = 2, arg2 = 3"
   ]
  },
  {
   "cell_type": "markdown",
   "metadata": {},
   "source": [
    "### syntax lama function\n",
    "* one line function\n",
    "* without name\n",
    "* only use in this line\n",
    "```\n",
    "lambda param1,param2 : function_body\n",
    "```"
   ]
  },
  {
   "cell_type": "code",
   "execution_count": 2,
   "metadata": {},
   "outputs": [
    {
     "data": {
      "text/plain": [
       "5"
      ]
     },
     "execution_count": 2,
     "metadata": {},
     "output_type": "execute_result"
    }
   ],
   "source": [
    "# lambda function\n",
    "\n",
    "a = lambda first_number, second_number : first_number + second_number\n",
    "\n",
    "a(2, 3)\n",
    "\n"
   ]
  },
  {
   "cell_type": "code",
   "execution_count": 25,
   "metadata": {},
   "outputs": [
    {
     "data": {
      "text/plain": [
       "6"
      ]
     },
     "execution_count": 25,
     "metadata": {},
     "output_type": "execute_result"
    }
   ],
   "source": [
    "from typing import Callable\n",
    "# lamba function with static types\n",
    "\n",
    "a : Callable[[int,int], int]  = lambda first_number, second_number : first_number + second_number\n",
    "\n",
    "a(2, 4)"
   ]
  },
  {
   "cell_type": "code",
   "execution_count": 20,
   "metadata": {},
   "outputs": [
    {
     "name": "stdout",
     "output_type": "stream",
     "text": [
      "1 square is 1\n",
      "2 square is 4\n",
      "3 square is 9\n",
      "4 square is 16\n",
      "5 square is 25\n",
      "6 square is 36\n",
      "7 square is 49\n",
      "8 square is 64\n",
      "9 square is 81\n"
     ]
    }
   ],
   "source": [
    "data : list[int] = [1, 2, 3, 4, 5, 6, 7, 8, 9]\n",
    "\n",
    "data1 = list(map(lambda x : x ** 2, data))\n",
    "\n",
    "for n,i in zip(data1, data):\n",
    "    print(f\"{i} square is {n}\")\n",
    "        \n",
    "    \n",
    "       \n"
   ]
  },
  {
   "cell_type": "markdown",
   "metadata": {},
   "source": [
    "### Generator Function\n",
    "* iterate on elements one by one\n",
    "* stop after each iteration\n",
    "* remember ol iteration value (last iterate value)\n",
    "* next iterate\n",
    "    * go forward from last iterated value"
   ]
  },
  {
   "cell_type": "code",
   "execution_count": 36,
   "metadata": {},
   "outputs": [
    {
     "name": "stdout",
     "output_type": "stream",
     "text": [
      "1\n",
      "2\n",
      "3\n"
     ]
    }
   ],
   "source": [
    "# Generator function\n",
    "\n",
    "def my_range(start:int, end:int, step:int=1):\n",
    "    for i in range(start, end+1, step):\n",
    "        yield i\n",
    "        \n",
    "        \n",
    "iterator_variable = my_range(1, 10)  \n",
    "print(next(iterator_variable))\n",
    "print(next(iterator_variable))\n",
    "print(next(iterator_variable))\n",
    "   "
   ]
  },
  {
   "cell_type": "code",
   "execution_count": 37,
   "metadata": {},
   "outputs": [
    {
     "name": "stdout",
     "output_type": "stream",
     "text": [
      "2\n",
      "4\n",
      "6\n",
      "8\n",
      "10\n"
     ]
    }
   ],
   "source": [
    "# Generator function wwith static types\n",
    "\n",
    "from collections.abc import Iterator\n",
    "\n",
    "def my_range(start:int, end:int, step:int=1)->Iterator[int]:\n",
    "    for i in range(start, end+1, step):\n",
    "        if i % 2 == 0:\n",
    "            yield i # Generator function\n",
    "        \n",
    "\n",
    "iterator_variable : Iterator[int] = my_range(1, 10)\n",
    "# print(next(a))\n",
    "# print(next(a))   \n",
    "\n",
    "for i in iterator_variable:\n",
    "    print(i)     \n",
    "\n"
   ]
  },
  {
   "cell_type": "markdown",
   "metadata": {},
   "source": [
    "### Pass Unlimited Arguements"
   ]
  },
  {
   "cell_type": "code",
   "execution_count": 39,
   "metadata": {},
   "outputs": [
    {
     "name": "stdout",
     "output_type": "stream",
     "text": [
      "(1, 2, 3, 4, 5, 6, 7, 8, 9) <class 'tuple'>\n"
     ]
    },
    {
     "data": {
      "text/plain": [
       "45"
      ]
     },
     "execution_count": 39,
     "metadata": {},
     "output_type": "execute_result"
    }
   ],
   "source": [
    "def num (*nums):\n",
    "    print(nums, type(nums))\n",
    "    total : int = 0\n",
    "    for i in nums:\n",
    "        total += i\n",
    "    return total    \n",
    "    \n",
    "num(1, 2, 3, 4, 5, 6, 7, 8, 9)    "
   ]
  },
  {
   "cell_type": "code",
   "execution_count": 42,
   "metadata": {},
   "outputs": [
    {
     "name": "stdout",
     "output_type": "stream",
     "text": [
      "{'a': 1, 'b': 2, 'c': 3, 'd': 4, 'e': 5, 'f': 6, 'g': 7, 'h': 8, 'i': 9, 'name': 'Ali'} <class 'dict'>\n"
     ]
    }
   ],
   "source": [
    "def num (**nums):\n",
    "    print(nums, type(nums))\n",
    "    \n",
    "num(a=1, b=2, c=3, d=4, e=5, f=6, g=7, h=8, i=9, name = \"Ali\")    "
   ]
  },
  {
   "cell_type": "code",
   "execution_count": 46,
   "metadata": {},
   "outputs": [
    {
     "name": "stdout",
     "output_type": "stream",
     "text": [
      "1 <class 'int'>\n",
      "2 <class 'int'>\n",
      "(3, 4, 5, 6, 7, 8, 9) <class 'tuple'>\n",
      "{'name': 'Ali', 'age': 20} <class 'dict'>\n"
     ]
    }
   ],
   "source": [
    "from typing import Tuple,Dict,Any\n",
    "\n",
    "\n",
    "def num (a:int,b:int,*nums:int, **kwargs: int) -> None:\n",
    "    print(a, type(a))\n",
    "    print(b, type(b))\n",
    "    print(nums, type(nums))\n",
    "    print(kwargs, type(kwargs))\n",
    "    \n",
    "num(1, 2, 3, 4, 5, 6, 7, 8, 9, name = \"Ali\", age = 20)    "
   ]
  },
  {
   "cell_type": "markdown",
   "metadata": {},
   "source": [
    "### Decorator Function"
   ]
  },
  {
   "cell_type": "code",
   "execution_count": 48,
   "metadata": {},
   "outputs": [
    {
     "name": "stdout",
     "output_type": "stream",
     "text": [
      "Before function call\n",
      "Hello World\n",
      "After function call\n"
     ]
    }
   ],
   "source": [
    "from typing import Callable\n",
    "# decorator function\n",
    "\n",
    "def decorator_function(function: Callable[[], None])->Callable[[], None]:\n",
    "    def wrapper_function():\n",
    "        print(\"Before function call\")\n",
    "        function()\n",
    "        print(\"After function call\")\n",
    "    return wrapper_function\n",
    "\n",
    "@decorator_function\n",
    "def greet():\n",
    "    print(\"Hello World\")\n",
    "    \n",
    "\n",
    "greeter = greet() # function call    "
   ]
  },
  {
   "cell_type": "code",
   "execution_count": 50,
   "metadata": {},
   "outputs": [
    {
     "name": "stdout",
     "output_type": "stream",
     "text": [
      "Before function call\n",
      "Taha\n",
      "After function call\n"
     ]
    }
   ],
   "source": [
    "from typing import Callable\n",
    "# decorator function\n",
    "\n",
    "def decorator_function(function: Callable[[], None])->Callable[[], None]:\n",
    "    def wrapper_function():\n",
    "        print(\"Before function call\")\n",
    "        name = function()\n",
    "        print(f\"{name}\")\n",
    "        print(\"After function call\")\n",
    "    return wrapper_function\n",
    "\n",
    "@decorator_function\n",
    "def greet() -> str:\n",
    "    name : str = input(\"Enter your name: \")\n",
    "    return name\n",
    "    \n",
    "\n",
    "greeter = greet() # function call    "
   ]
  },
  {
   "cell_type": "markdown",
   "metadata": {},
   "source": [
    "### Recurrsion Function"
   ]
  },
  {
   "cell_type": "code",
   "execution_count": 63,
   "metadata": {},
   "outputs": [
    {
     "name": "stdout",
     "output_type": "stream",
     "text": [
      "Factorial of 5 is 120\n"
     ]
    }
   ],
   "source": [
    "# Recursion function\n",
    "\n",
    "def factoriala(number:int)->int:\n",
    "    if number == 1:\n",
    "        return 1\n",
    "    else:\n",
    "        return number * factoriala(number-1)\n",
    "\n",
    "num = 5\n",
    "print(f\"Factorial of {num} is {factoriala(num)}\")\n",
    "\n"
   ]
  }
 ],
 "metadata": {
  "kernelspec": {
   "display_name": "python12",
   "language": "python",
   "name": "python3"
  },
  "language_info": {
   "codemirror_mode": {
    "name": "ipython",
    "version": 3
   },
   "file_extension": ".py",
   "mimetype": "text/x-python",
   "name": "python",
   "nbconvert_exporter": "python",
   "pygments_lexer": "ipython3",
   "version": "3.12.0"
  }
 },
 "nbformat": 4,
 "nbformat_minor": 2
}
