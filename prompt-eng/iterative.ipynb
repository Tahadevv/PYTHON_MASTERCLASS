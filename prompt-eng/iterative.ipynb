{
 "cells": [
  {
   "cell_type": "markdown",
   "metadata": {},
   "source": [
    "## Generate a marketing product description from a product fact sheet"
   ]
  },
  {
   "cell_type": "code",
   "execution_count": 2,
   "metadata": {},
   "outputs": [
    {
     "name": "stdout",
     "output_type": "stream",
     "text": [
      "API Key: BCvosXYEve3u1dqqI4cmDTtxjDiQuC8K\n",
      "Determining the \"best\" French cheese can be subjective, as it depends on personal preferences. France is renowned for its wide variety of cheeses, with over 400 different types. Here are a few highly regarded French cheeses across various categories:\n",
      "\n",
      "1. **Soft Cheeses**:\n",
      "   - **Brie de Meaux**: Often referred to as the \"King of Cheeses,\" it is a soft cheese with a rich, creamy interior and a bloomy rind.\n",
      "   - **Camembert de Normandie**: Another famous soft cheese, known for its rich, buttery flavor and creamy texture.\n",
      "\n",
      "2. **Semi-Soft Cheeses**:\n",
      "   - **Reblochon**: A savory cheese from the Alps with a nutty flavor and a soft, washed rind.\n",
      "   - **Munster**: A strong-tasting, soft washed-rind cheese made mainly from the milk of the Vosgienne breed of cows.\n",
      "\n",
      "3. **Hard Cheeses**:\n",
      "   - **Comté**: A firm, pressed cheese made from unpasteurized cow's milk. It has a complex flavor profile that includes notes of fruit, nuts, and spices.\n",
      "   - **Beaufort**: A firm, raw cow's milk cheese with a smooth and creamy texture and a strong, nutty flavor.\n",
      "\n",
      "4. **Blue Cheeses**:\n",
      "   - **Roquefort**: A famous blue cheese made from sheep's milk, known for its tangy and salty flavor.\n",
      "   - **Bleu d'Auvergne**: A strong, blue-veined cheese with a creamy texture and a pungent, spicy flavor.\n",
      "\n",
      "5. **Goat Cheeses**:\n",
      "   - **Sainte-Maure de Touraine**: A tangy, slightly crumbly goat cheese with a distinctive log shape and a gray, ash-covered rind.\n",
      "   - **Crottin de Chavignol**: A small, round goat cheese with a dense, creamy texture and a mild, nutty flavor.\n",
      "\n",
      "Each of these cheeses offers a unique taste and texture, so the \"best\" one ultimately depends on your personal preferences.\n"
     ]
    }
   ],
   "source": [
    "import os\n",
    "from mistralai import Mistral\n",
    "from dotenv import load_dotenv\n",
    "\n",
    "load_dotenv()\n",
    "\n",
    "api_key = os.environ[\"MISTRAL_API_KEY\"]\n",
    "model = \"mistral-large-latest\"\n",
    "\n",
    "print(\"API Key:\", api_key)\n",
    "\n",
    "client = Mistral(api_key=api_key)\n",
    "\n",
    "chat_response = client.chat.complete(\n",
    "    model= model,\n",
    "    messages = [\n",
    "        {\n",
    "            \"role\": \"user\",\n",
    "            \"content\": \"What is the best French cheese?\",\n",
    "        },\n",
    "    ]\n",
    ")\n",
    "print(chat_response.choices[0].message.content) # type: ignore"
   ]
  },
  {
   "cell_type": "code",
   "execution_count": 3,
   "metadata": {},
   "outputs": [],
   "source": [
    "def get_completion(prompt, model=\"mistral-small-latest\"):\n",
    "   \n",
    "    response = client.chat.complete(\n",
    "        model=model,\n",
    "        messages=[\n",
    "        {\n",
    "            \"role\": \"user\",\n",
    "            \"content\": prompt,\n",
    "        },\n",
    "    ],\n",
    "        temperature=0, # this is the degree of randomness of the model's output\n",
    "    )\n",
    "    return response.choices[0].message.content"
   ]
  },
  {
   "cell_type": "code",
   "execution_count": 4,
   "metadata": {},
   "outputs": [],
   "source": [
    "fact_sheet_chair = \"\"\"\n",
    "OVERVIEW\n",
    "- Part of a beautiful family of mid-century inspired office furniture, \n",
    "including filing cabinets, desks, bookcases, meeting tables, and more.\n",
    "- Several options of shell color and base finishes.\n",
    "- Available with plastic back and front upholstery (SWC-100) \n",
    "or full upholstery (SWC-110) in 10 fabric and 6 leather options.\n",
    "- Base finish options are: stainless steel, matte black, \n",
    "gloss white, or chrome.\n",
    "- Chair is available with or without armrests.\n",
    "- Suitable for home or business settings.\n",
    "- Qualified for contract use.\n",
    "\n",
    "CONSTRUCTION\n",
    "- 5-wheel plastic coated aluminum base.\n",
    "- Pneumatic chair adjust for easy raise/lower action.\n",
    "\n",
    "DIMENSIONS\n",
    "- WIDTH 53 CM | 20.87”\n",
    "- DEPTH 51 CM | 20.08”\n",
    "- HEIGHT 80 CM | 31.50”\n",
    "- SEAT HEIGHT 44 CM | 17.32”\n",
    "- SEAT DEPTH 41 CM | 16.14”\n",
    "\n",
    "OPTIONS\n",
    "- Soft or hard-floor caster options.\n",
    "- Two choices of seat foam densities: \n",
    " medium (1.8 lb/ft3) or high (2.8 lb/ft3)\n",
    "- Armless or 8 position PU armrests \n",
    "\n",
    "MATERIALS\n",
    "SHELL BASE GLIDER\n",
    "- Cast Aluminum with modified nylon PA6/PA66 coating.\n",
    "- Shell thickness: 10 mm.\n",
    "SEAT\n",
    "- HD36 foam\n",
    "\n",
    "COUNTRY OF ORIGIN\n",
    "- Italy\n",
    "\"\"\""
   ]
  },
  {
   "cell_type": "code",
   "execution_count": 5,
   "metadata": {},
   "outputs": [
    {
     "name": "stdout",
     "output_type": "stream",
     "text": [
      "### Product Description\n",
      "\n",
      "Introducing our exquisite mid-century inspired office chair, a perfect blend of timeless design and modern functionality. This chair is part of a stunning collection that includes filing cabinets, desks, bookcases, meeting tables, and more, ensuring a cohesive and stylish office environment.\n",
      "\n",
      "**Customization Options:**\n",
      "- **Shell Color and Base Finishes:** Choose from a variety of shell colors and base finishes, including stainless steel, matte black, gloss white, or chrome, to match your unique style.\n",
      "- **Upholstery Choices:** Available with plastic back and front upholstery (SWC-100) or full upholstery (SWC-110) in 10 fabric and 6 leather options, ensuring both comfort and aesthetic appeal.\n",
      "- **Armrests:** Available with or without armrests, providing flexibility for different seating preferences.\n",
      "\n",
      "**Construction and Comfort:**\n",
      "- **Durable Base:** Features a 5-wheel plastic coated aluminum base for stability and easy movement.\n",
      "- **Pneumatic Adjustment:** Equipped with a pneumatic chair adjust for effortless raising and lowering.\n",
      "- **Seat Foam:** Choose between medium (1.8 lb/ft³) or high (2.8 lb/ft³) density seat foam for optimal comfort.\n",
      "- **Caster Options:** Soft or hard-floor caster options to suit different flooring types.\n",
      "\n",
      "**Dimensions:**\n",
      "- **Width:** 53 cm | 20.87”\n",
      "- **Depth:** 51 cm | 20.08”\n",
      "- **Height:** 80 cm | 31.50”\n",
      "- **Seat Height:** 44 cm | 17.32”\n",
      "- **Seat Depth:** 41 cm | 16.14”\n",
      "\n",
      "**Materials:**\n",
      "- **Shell Base Glider:** Crafted from cast aluminum with a modified nylon PA6/PA66 coating, ensuring durability and a sleek finish.\n",
      "- **Seat:** Made with HD36 foam for superior comfort and support.\n",
      "\n",
      "**Versatility:**\n",
      "- Suitable for both home and business settings, this chair is qualified for contract use, making it a reliable choice for any professional environment.\n",
      "\n",
      "**Country of Origin:**\n",
      "- Proudly made in Italy, this chair embodies the craftsmanship and design excellence for which Italian furniture is renowned.\n",
      "\n",
      "Elevate your workspace with our mid-century inspired office chair, combining style, comfort, and durability for an unparalleled seating experience.\n"
     ]
    }
   ],
   "source": [
    "prompt = f\"\"\"\n",
    "Your task is to help a marketing team create a \n",
    "description for a retail website of a product based \n",
    "on a technical fact sheet.\n",
    "\n",
    "Write a product description based on the information \n",
    "provided in the technical specifications delimited by \n",
    "triple backticks.\n",
    "\n",
    "Technical specifications: ```{fact_sheet_chair}```\n",
    "\"\"\"\n",
    "response = get_completion(prompt)\n",
    "print(response)"
   ]
  },
  {
   "cell_type": "markdown",
   "metadata": {},
   "source": [
    "## issue 1 - text is too long"
   ]
  },
  {
   "cell_type": "code",
   "execution_count": 6,
   "metadata": {},
   "outputs": [
    {
     "name": "stdout",
     "output_type": "stream",
     "text": [
      "Experience timeless style with our mid-century inspired office chair. Available in various shell colors and base finishes, with optional full or partial upholstery. Features a durable aluminum base, pneumatic height adjustment, and soft or hard-floor casters. Perfect for home or business use. Made in Italy.\n"
     ]
    }
   ],
   "source": [
    "prompt = f\"\"\"\n",
    "Your task is to help a marketing team create a \n",
    "description for a retail website of a product based \n",
    "on a technical fact sheet.\n",
    "\n",
    "Write a product description based on the information \n",
    "provided in the technical specifications delimited by \n",
    "triple backticks.\n",
    "\n",
    "Use at most 50 words.\n",
    "\n",
    "Technical specifications: ```{fact_sheet_chair}```\n",
    "\"\"\"\n",
    "response = get_completion(prompt)\n",
    "print(response)"
   ]
  },
  {
   "cell_type": "markdown",
   "metadata": {},
   "source": [
    "## issue 2 - focus on wrong details"
   ]
  },
  {
   "cell_type": "code",
   "execution_count": 7,
   "metadata": {},
   "outputs": [
    {
     "name": "stdout",
     "output_type": "stream",
     "text": [
      "Experience the perfect blend of mid-century design and modern functionality with our office chair. Crafted with a durable 10mm cast aluminum shell and a modified nylon PA6/PA66 coating, it ensures longevity and style. The seat features HD36 foam for optimal comfort, while the 5-wheel plastic-coated aluminum base and pneumatic adjustment offer smooth mobility and easy height adjustment. Available in various shell colors, base finishes, and upholstery options, this chair is ideal for both home and business settings.\n"
     ]
    }
   ],
   "source": [
    "prompt = f\"\"\"\n",
    "Your task is to help a marketing team create a \n",
    "description for a retail website of a product based \n",
    "on a technical fact sheet.\n",
    "\n",
    "Write a product description based on the information \n",
    "provided in the technical specifications delimited by \n",
    "triple backticks.\n",
    "\n",
    "The description is intended for furniture retailers, \n",
    "so should be technical in nature and focus on the \n",
    "materials the product is constructed from.\n",
    "\n",
    "Use at most 50 words.\n",
    "\n",
    "Technical specifications: ```{fact_sheet_chair}```\n",
    "\"\"\"\n",
    "response = get_completion(prompt)\n",
    "print(response)"
   ]
  },
  {
   "cell_type": "code",
   "execution_count": 8,
   "metadata": {},
   "outputs": [
    {
     "name": "stdout",
     "output_type": "stream",
     "text": [
      "```html\n",
      "<div>\n",
      "    <h2>Mid-Century Inspired Office Chair</h2>\n",
      "    <p>Introducing our mid-century inspired office chair, a versatile and stylish addition to any modern workspace. This chair is part of a comprehensive family of office furniture, including filing cabinets, desks, bookcases, and meeting tables, offering a cohesive look for your office environment.</p>\n",
      "    <p>Constructed with a 5-wheel plastic coated aluminum base, this chair ensures durability and stability. The pneumatic chair adjust feature allows for easy height adjustment, making it suitable for various users and settings. The shell is made of cast aluminum with a modified nylon PA6/PA66 coating, providing a robust and sleek finish. The shell thickness of 10 mm ensures structural integrity and longevity.</p>\n",
      "    <p>The seat is crafted with HD36 foam, offering superior comfort and support. The chair is available with several shell color and base finish options, including stainless steel, matte black, gloss white, or chrome. Additionally, you can choose between plastic back and front upholstery (SWC-100) or full upholstery (SWC-110) in 10 fabric and 6 leather options, allowing for customization to match your office decor.</p>\n",
      "    <p>This chair is available with or without armrests, and the seat foam density can be chosen between medium (1.8 lb/ft3) or high (2.8 lb/ft3) for personalized comfort. The chair is suitable for both home and business settings and is qualified for contract use, making it a reliable choice for any professional environment.</p>\n",
      "    <p>Product IDs: SWC-100, SWC-110</p>\n",
      "</div>\n",
      "\n",
      "<table>\n",
      "    <caption>Product Dimensions</caption>\n",
      "    <tr>\n",
      "        <th>Dimension</th>\n",
      "        <th>Measurement (inches)</th>\n",
      "    </tr>\n",
      "    <tr>\n",
      "        <td>Width</td>\n",
      "        <td>20.87</td>\n",
      "    </tr>\n",
      "    <tr>\n",
      "        <td>Depth</td>\n",
      "        <td>20.08</td>\n",
      "    </tr>\n",
      "    <tr>\n",
      "        <td>Height</td>\n",
      "        <td>31.50</td>\n",
      "    </tr>\n",
      "    <tr>\n",
      "        <td>Seat Height</td>\n",
      "        <td>17.32</td>\n",
      "    </tr>\n",
      "    <tr>\n",
      "        <td>Seat Depth</td>\n",
      "        <td>16.14</td>\n",
      "    </tr>\n",
      "</table>\n",
      "```\n"
     ]
    }
   ],
   "source": [
    "prompt = f\"\"\"\n",
    "Your task is to help a marketing team create a \n",
    "description for a retail website of a product based \n",
    "on a technical fact sheet.\n",
    "\n",
    "Write a product description based on the information \n",
    "provided in the technical specifications delimited by \n",
    "triple backticks.\n",
    "\n",
    "The description is intended for furniture retailers, \n",
    "so should be technical in nature and focus on the \n",
    "materials the product is constructed from.\n",
    "\n",
    "At the end of the description, include every 7-character \n",
    "Product ID in the technical specification.\n",
    "\n",
    "After the description, include a table that gives the \n",
    "product's dimensions. The table should have two columns.\n",
    "In the first column include the name of the dimension. \n",
    "In the second column include the measurements in inches only.\n",
    "\n",
    "Give the table the title 'Product Dimensions'.\n",
    "\n",
    "Format everything as HTML that can be used in a website. \n",
    "Place the description in a <div> element.\n",
    "\n",
    "Technical specifications: ```{fact_sheet_chair}```\n",
    "\"\"\"\n",
    "\n",
    "response = get_completion(prompt)\n",
    "print(response)"
   ]
  },
  {
   "cell_type": "code",
   "execution_count": 9,
   "metadata": {},
   "outputs": [
    {
     "data": {
      "text/html": [
       "```html\n",
       "<div>\n",
       "    <h2>Mid-Century Inspired Office Chair</h2>\n",
       "    <p>Introducing our mid-century inspired office chair, a versatile and stylish addition to any modern workspace. This chair is part of a comprehensive family of office furniture, including filing cabinets, desks, bookcases, and meeting tables, offering a cohesive look for your office environment.</p>\n",
       "    <p>Constructed with a 5-wheel plastic coated aluminum base, this chair ensures durability and stability. The pneumatic chair adjust feature allows for easy height adjustment, making it suitable for various users and settings. The shell is made of cast aluminum with a modified nylon PA6/PA66 coating, providing a robust and sleek finish. The shell thickness of 10 mm ensures structural integrity and longevity.</p>\n",
       "    <p>The seat is crafted with HD36 foam, offering superior comfort and support. The chair is available with several shell color and base finish options, including stainless steel, matte black, gloss white, or chrome. Additionally, you can choose between plastic back and front upholstery (SWC-100) or full upholstery (SWC-110) in 10 fabric and 6 leather options, allowing for customization to match your office decor.</p>\n",
       "    <p>This chair is available with or without armrests, and the seat foam density can be chosen between medium (1.8 lb/ft3) or high (2.8 lb/ft3) for personalized comfort. The chair is suitable for both home and business settings and is qualified for contract use, making it a reliable choice for any professional environment.</p>\n",
       "    <p>Product IDs: SWC-100, SWC-110</p>\n",
       "</div>\n",
       "\n",
       "<table>\n",
       "    <caption>Product Dimensions</caption>\n",
       "    <tr>\n",
       "        <th>Dimension</th>\n",
       "        <th>Measurement (inches)</th>\n",
       "    </tr>\n",
       "    <tr>\n",
       "        <td>Width</td>\n",
       "        <td>20.87</td>\n",
       "    </tr>\n",
       "    <tr>\n",
       "        <td>Depth</td>\n",
       "        <td>20.08</td>\n",
       "    </tr>\n",
       "    <tr>\n",
       "        <td>Height</td>\n",
       "        <td>31.50</td>\n",
       "    </tr>\n",
       "    <tr>\n",
       "        <td>Seat Height</td>\n",
       "        <td>17.32</td>\n",
       "    </tr>\n",
       "    <tr>\n",
       "        <td>Seat Depth</td>\n",
       "        <td>16.14</td>\n",
       "    </tr>\n",
       "</table>\n",
       "```"
      ],
      "text/plain": [
       "<IPython.core.display.HTML object>"
      ]
     },
     "metadata": {},
     "output_type": "display_data"
    }
   ],
   "source": [
    "from IPython.display import display, HTML\n",
    "display(HTML(response))"
   ]
  }
 ],
 "metadata": {
  "kernelspec": {
   "display_name": "venv",
   "language": "python",
   "name": "python3"
  },
  "language_info": {
   "codemirror_mode": {
    "name": "ipython",
    "version": 3
   },
   "file_extension": ".py",
   "mimetype": "text/x-python",
   "name": "python",
   "nbconvert_exporter": "python",
   "pygments_lexer": "ipython3",
   "version": "3.11.5"
  }
 },
 "nbformat": 4,
 "nbformat_minor": 2
}
